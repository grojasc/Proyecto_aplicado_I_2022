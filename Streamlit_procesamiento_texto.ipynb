{
  "nbformat": 4,
  "nbformat_minor": 0,
  "metadata": {
    "colab": {
      "provenance": [],
      "include_colab_link": true
    },
    "kernelspec": {
      "name": "python3",
      "display_name": "Python 3"
    },
    "language_info": {
      "name": "python"
    }
  },
  "cells": [
    {
      "cell_type": "markdown",
      "metadata": {
        "id": "view-in-github",
        "colab_type": "text"
      },
      "source": [
        "<a href=\"https://colab.research.google.com/github/grojasc/Proyecto_aplicado_I_2022/blob/main/Streamlit_procesamiento_texto.ipynb\" target=\"_parent\"><img src=\"https://colab.research.google.com/assets/colab-badge.svg\" alt=\"Open In Colab\"/></a>"
      ]
    },
    {
      "cell_type": "markdown",
      "metadata": {
        "id": "b1d5KuSm6MlV"
      },
      "source": [
        "# MIA UC (Magíster en Inteligencia Artificial) - curso Proyecto Aplicado I\n",
        "## Práctico Streamlit Procesamiento de Texto\n",
        "\n",
        "**Docente:** Manuel Cartagena\n",
        "\n",
        "**Ayudantes:** Nicolás Sumonte - Álvaro Labarca\n",
        "\n",
        "**Jueves 17 de Noviembre de 2022**\n",
        "\n",
        "En esta actividad utilizaremos [**gensim**](https://https://radimrehurek.com/gensim/) y [**sumy**](https://https://miso-belica.github.io/sumy/) para funciones de NLP, **Streamlit** para hacer un prototipo de la aplicación y **NGROK** para llevarlo a producción. "
      ]
    },
    {
      "cell_type": "code",
      "metadata": {
        "colab": {
          "base_uri": "https://localhost:8080/"
        },
        "id": "DvBBKAvAJiVJ",
        "outputId": "e6d641ba-3273-40a4-c8bc-17434e3ff7dd"
      },
      "source": [
        "!pip install streamlit==1.14.0\n",
        "!pip install gensim \n",
        "!pip install sumy"
      ],
      "execution_count": null,
      "outputs": [
        {
          "output_type": "stream",
          "name": "stdout",
          "text": [
            "Looking in indexes: https://pypi.org/simple, https://us-python.pkg.dev/colab-wheels/public/simple/\n",
            "Collecting streamlit==1.14.0\n",
            "  Downloading streamlit-1.14.0-py2.py3-none-any.whl (9.2 MB)\n",
            "\u001b[K     |████████████████████████████████| 9.2 MB 8.8 MB/s \n",
            "\u001b[?25hCollecting rich>=10.11.0\n",
            "  Downloading rich-12.6.0-py3-none-any.whl (237 kB)\n",
            "\u001b[K     |████████████████████████████████| 237 kB 40.3 MB/s \n",
            "\u001b[?25hRequirement already satisfied: importlib-metadata>=1.4 in /usr/local/lib/python3.7/dist-packages (from streamlit==1.14.0) (4.13.0)\n",
            "Requirement already satisfied: packaging>=14.1 in /usr/local/lib/python3.7/dist-packages (from streamlit==1.14.0) (21.3)\n",
            "Requirement already satisfied: requests>=2.4 in /usr/local/lib/python3.7/dist-packages (from streamlit==1.14.0) (2.23.0)\n",
            "Requirement already satisfied: protobuf<4,>=3.12 in /usr/local/lib/python3.7/dist-packages (from streamlit==1.14.0) (3.19.6)\n",
            "Requirement already satisfied: pillow>=6.2.0 in /usr/local/lib/python3.7/dist-packages (from streamlit==1.14.0) (7.1.2)\n",
            "Collecting semver\n",
            "  Downloading semver-2.13.0-py2.py3-none-any.whl (12 kB)\n",
            "Collecting validators>=0.2\n",
            "  Downloading validators-0.20.0.tar.gz (30 kB)\n",
            "Collecting gitpython!=3.1.19\n",
            "  Downloading GitPython-3.1.29-py3-none-any.whl (182 kB)\n",
            "\u001b[K     |████████████████████████████████| 182 kB 26.7 MB/s \n",
            "\u001b[?25hRequirement already satisfied: pandas>=0.21.0 in /usr/local/lib/python3.7/dist-packages (from streamlit==1.14.0) (1.3.5)\n",
            "Requirement already satisfied: python-dateutil in /usr/local/lib/python3.7/dist-packages (from streamlit==1.14.0) (2.8.2)\n",
            "Requirement already satisfied: toml in /usr/local/lib/python3.7/dist-packages (from streamlit==1.14.0) (0.10.2)\n",
            "Requirement already satisfied: tzlocal>=1.1 in /usr/local/lib/python3.7/dist-packages (from streamlit==1.14.0) (1.5.1)\n",
            "Requirement already satisfied: altair>=3.2.0 in /usr/local/lib/python3.7/dist-packages (from streamlit==1.14.0) (4.2.0)\n",
            "Requirement already satisfied: typing-extensions>=3.10.0.0 in /usr/local/lib/python3.7/dist-packages (from streamlit==1.14.0) (4.1.1)\n",
            "Requirement already satisfied: cachetools>=4.0 in /usr/local/lib/python3.7/dist-packages (from streamlit==1.14.0) (5.2.0)\n",
            "Requirement already satisfied: numpy in /usr/local/lib/python3.7/dist-packages (from streamlit==1.14.0) (1.21.6)\n",
            "Collecting watchdog\n",
            "  Downloading watchdog-2.1.9-py3-none-manylinux2014_x86_64.whl (78 kB)\n",
            "\u001b[K     |████████████████████████████████| 78 kB 5.7 MB/s \n",
            "\u001b[?25hCollecting pympler>=0.9\n",
            "  Downloading Pympler-1.0.1-py3-none-any.whl (164 kB)\n",
            "\u001b[K     |████████████████████████████████| 164 kB 67.3 MB/s \n",
            "\u001b[?25hCollecting blinker>=1.0.0\n",
            "  Downloading blinker-1.5-py2.py3-none-any.whl (12 kB)\n",
            "Requirement already satisfied: pyarrow>=4.0 in /usr/local/lib/python3.7/dist-packages (from streamlit==1.14.0) (6.0.1)\n",
            "Requirement already satisfied: tornado>=5.0 in /usr/local/lib/python3.7/dist-packages (from streamlit==1.14.0) (6.0.4)\n",
            "Collecting pydeck>=0.1.dev5\n",
            "  Downloading pydeck-0.8.0-py2.py3-none-any.whl (4.7 MB)\n",
            "\u001b[K     |████████████████████████████████| 4.7 MB 38.5 MB/s \n",
            "\u001b[?25hRequirement already satisfied: click>=7.0 in /usr/local/lib/python3.7/dist-packages (from streamlit==1.14.0) (7.1.2)\n",
            "Requirement already satisfied: toolz in /usr/local/lib/python3.7/dist-packages (from altair>=3.2.0->streamlit==1.14.0) (0.12.0)\n",
            "Requirement already satisfied: jsonschema>=3.0 in /usr/local/lib/python3.7/dist-packages (from altair>=3.2.0->streamlit==1.14.0) (4.3.3)\n",
            "Requirement already satisfied: jinja2 in /usr/local/lib/python3.7/dist-packages (from altair>=3.2.0->streamlit==1.14.0) (2.11.3)\n",
            "Requirement already satisfied: entrypoints in /usr/local/lib/python3.7/dist-packages (from altair>=3.2.0->streamlit==1.14.0) (0.4)\n",
            "Collecting gitdb<5,>=4.0.1\n",
            "  Downloading gitdb-4.0.9-py3-none-any.whl (63 kB)\n",
            "\u001b[K     |████████████████████████████████| 63 kB 878 kB/s \n",
            "\u001b[?25hCollecting smmap<6,>=3.0.1\n",
            "  Downloading smmap-5.0.0-py3-none-any.whl (24 kB)\n",
            "Requirement already satisfied: zipp>=0.5 in /usr/local/lib/python3.7/dist-packages (from importlib-metadata>=1.4->streamlit==1.14.0) (3.10.0)\n",
            "Requirement already satisfied: importlib-resources>=1.4.0 in /usr/local/lib/python3.7/dist-packages (from jsonschema>=3.0->altair>=3.2.0->streamlit==1.14.0) (5.10.0)\n",
            "Requirement already satisfied: pyrsistent!=0.17.0,!=0.17.1,!=0.17.2,>=0.14.0 in /usr/local/lib/python3.7/dist-packages (from jsonschema>=3.0->altair>=3.2.0->streamlit==1.14.0) (0.19.2)\n",
            "Requirement already satisfied: attrs>=17.4.0 in /usr/local/lib/python3.7/dist-packages (from jsonschema>=3.0->altair>=3.2.0->streamlit==1.14.0) (22.1.0)\n",
            "Requirement already satisfied: pyparsing!=3.0.5,>=2.0.2 in /usr/local/lib/python3.7/dist-packages (from packaging>=14.1->streamlit==1.14.0) (3.0.9)\n",
            "Requirement already satisfied: pytz>=2017.3 in /usr/local/lib/python3.7/dist-packages (from pandas>=0.21.0->streamlit==1.14.0) (2022.6)\n",
            "Requirement already satisfied: MarkupSafe>=0.23 in /usr/local/lib/python3.7/dist-packages (from jinja2->altair>=3.2.0->streamlit==1.14.0) (2.0.1)\n",
            "Requirement already satisfied: six>=1.5 in /usr/local/lib/python3.7/dist-packages (from python-dateutil->streamlit==1.14.0) (1.15.0)\n",
            "Requirement already satisfied: idna<3,>=2.5 in /usr/local/lib/python3.7/dist-packages (from requests>=2.4->streamlit==1.14.0) (2.10)\n",
            "Requirement already satisfied: chardet<4,>=3.0.2 in /usr/local/lib/python3.7/dist-packages (from requests>=2.4->streamlit==1.14.0) (3.0.4)\n",
            "Requirement already satisfied: certifi>=2017.4.17 in /usr/local/lib/python3.7/dist-packages (from requests>=2.4->streamlit==1.14.0) (2022.9.24)\n",
            "Requirement already satisfied: urllib3!=1.25.0,!=1.25.1,<1.26,>=1.21.1 in /usr/local/lib/python3.7/dist-packages (from requests>=2.4->streamlit==1.14.0) (1.24.3)\n",
            "Requirement already satisfied: pygments<3.0.0,>=2.6.0 in /usr/local/lib/python3.7/dist-packages (from rich>=10.11.0->streamlit==1.14.0) (2.6.1)\n",
            "Collecting commonmark<0.10.0,>=0.9.0\n",
            "  Downloading commonmark-0.9.1-py2.py3-none-any.whl (51 kB)\n",
            "\u001b[K     |████████████████████████████████| 51 kB 5.9 MB/s \n",
            "\u001b[?25hRequirement already satisfied: decorator>=3.4.0 in /usr/local/lib/python3.7/dist-packages (from validators>=0.2->streamlit==1.14.0) (4.4.2)\n",
            "Building wheels for collected packages: validators\n",
            "  Building wheel for validators (setup.py) ... \u001b[?25l\u001b[?25hdone\n",
            "  Created wheel for validators: filename=validators-0.20.0-py3-none-any.whl size=19615 sha256=564ca3152a5828e7393e11c1bcc5c6fc4dc5ab3cc634f9b7177c5c3946001397\n",
            "  Stored in directory: /root/.cache/pip/wheels/5f/55/ab/36a76989f7f88d9ca7b1f68da6d94252bb6a8d6ad4f18e04e9\n",
            "Successfully built validators\n",
            "Installing collected packages: smmap, gitdb, commonmark, watchdog, validators, semver, rich, pympler, pydeck, gitpython, blinker, streamlit\n",
            "Successfully installed blinker-1.5 commonmark-0.9.1 gitdb-4.0.9 gitpython-3.1.29 pydeck-0.8.0 pympler-1.0.1 rich-12.6.0 semver-2.13.0 smmap-5.0.0 streamlit-1.14.0 validators-0.20.0 watchdog-2.1.9\n",
            "Looking in indexes: https://pypi.org/simple, https://us-python.pkg.dev/colab-wheels/public/simple/\n",
            "Requirement already satisfied: gensim in /usr/local/lib/python3.7/dist-packages (3.6.0)\n",
            "Requirement already satisfied: six>=1.5.0 in /usr/local/lib/python3.7/dist-packages (from gensim) (1.15.0)\n",
            "Requirement already satisfied: numpy>=1.11.3 in /usr/local/lib/python3.7/dist-packages (from gensim) (1.21.6)\n",
            "Requirement already satisfied: smart-open>=1.2.1 in /usr/local/lib/python3.7/dist-packages (from gensim) (5.2.1)\n",
            "Requirement already satisfied: scipy>=0.18.1 in /usr/local/lib/python3.7/dist-packages (from gensim) (1.7.3)\n",
            "Looking in indexes: https://pypi.org/simple, https://us-python.pkg.dev/colab-wheels/public/simple/\n",
            "Collecting sumy\n",
            "  Downloading sumy-0.11.0-py2.py3-none-any.whl (97 kB)\n",
            "\u001b[K     |████████████████████████████████| 97 kB 5.9 MB/s \n",
            "\u001b[?25hCollecting breadability>=0.1.20\n",
            "  Downloading breadability-0.1.20.tar.gz (32 kB)\n",
            "Collecting docopt<0.7,>=0.6.1\n",
            "  Downloading docopt-0.6.2.tar.gz (25 kB)\n",
            "Requirement already satisfied: nltk>=3.0.2 in /usr/local/lib/python3.7/dist-packages (from sumy) (3.7)\n",
            "Collecting pycountry>=18.2.23\n",
            "  Downloading pycountry-22.3.5.tar.gz (10.1 MB)\n",
            "\u001b[K     |████████████████████████████████| 10.1 MB 61.6 MB/s \n",
            "\u001b[?25h  Installing build dependencies ... \u001b[?25l\u001b[?25hdone\n",
            "  Getting requirements to build wheel ... \u001b[?25l\u001b[?25hdone\n",
            "    Preparing wheel metadata ... \u001b[?25l\u001b[?25hdone\n",
            "Requirement already satisfied: requests>=2.7.0 in /usr/local/lib/python3.7/dist-packages (from sumy) (2.23.0)\n",
            "Requirement already satisfied: chardet in /usr/local/lib/python3.7/dist-packages (from breadability>=0.1.20->sumy) (3.0.4)\n",
            "Requirement already satisfied: lxml>=2.0 in /usr/local/lib/python3.7/dist-packages (from breadability>=0.1.20->sumy) (4.9.1)\n",
            "Requirement already satisfied: click in /usr/local/lib/python3.7/dist-packages (from nltk>=3.0.2->sumy) (7.1.2)\n",
            "Requirement already satisfied: joblib in /usr/local/lib/python3.7/dist-packages (from nltk>=3.0.2->sumy) (1.2.0)\n",
            "Requirement already satisfied: regex>=2021.8.3 in /usr/local/lib/python3.7/dist-packages (from nltk>=3.0.2->sumy) (2022.6.2)\n",
            "Requirement already satisfied: tqdm in /usr/local/lib/python3.7/dist-packages (from nltk>=3.0.2->sumy) (4.64.1)\n",
            "Requirement already satisfied: setuptools in /usr/local/lib/python3.7/dist-packages (from pycountry>=18.2.23->sumy) (57.4.0)\n",
            "Requirement already satisfied: urllib3!=1.25.0,!=1.25.1,<1.26,>=1.21.1 in /usr/local/lib/python3.7/dist-packages (from requests>=2.7.0->sumy) (1.24.3)\n",
            "Requirement already satisfied: idna<3,>=2.5 in /usr/local/lib/python3.7/dist-packages (from requests>=2.7.0->sumy) (2.10)\n",
            "Requirement already satisfied: certifi>=2017.4.17 in /usr/local/lib/python3.7/dist-packages (from requests>=2.7.0->sumy) (2022.9.24)\n",
            "Building wheels for collected packages: breadability, docopt, pycountry\n",
            "  Building wheel for breadability (setup.py) ... \u001b[?25l\u001b[?25hdone\n",
            "  Created wheel for breadability: filename=breadability-0.1.20-py2.py3-none-any.whl size=21711 sha256=32f5ee7226ab661fa562f9e7d01195a0d79cec095c99e98bc18bf67ca00e7e97\n",
            "  Stored in directory: /root/.cache/pip/wheels/d4/bf/51/81d27ad638e1a6dca4f362ecc33d1e2c764b8ea7ec751b8fc1\n",
            "  Building wheel for docopt (setup.py) ... \u001b[?25l\u001b[?25hdone\n",
            "  Created wheel for docopt: filename=docopt-0.6.2-py2.py3-none-any.whl size=13723 sha256=a55359f49fca1876e7b2949b81ff0a1314f0f9a9091bed26547c2caaef0f618f\n",
            "  Stored in directory: /root/.cache/pip/wheels/72/b0/3f/1d95f96ff986c7dfffe46ce2be4062f38ebd04b506c77c81b9\n",
            "  Building wheel for pycountry (PEP 517) ... \u001b[?25l\u001b[?25hdone\n",
            "  Created wheel for pycountry: filename=pycountry-22.3.5-py2.py3-none-any.whl size=10681845 sha256=58d0661f207d9fb99a3586398d4127f61c17df9d2b32f4df6c233affa87ec17b\n",
            "  Stored in directory: /root/.cache/pip/wheels/0e/06/e8/7ee176e95ea9a8a8c3b3afcb1869f20adbd42413d4611c6eb4\n",
            "Successfully built breadability docopt pycountry\n",
            "Installing collected packages: docopt, pycountry, breadability, sumy\n",
            "Successfully installed breadability-0.1.20 docopt-0.6.2 pycountry-22.3.5 sumy-0.11.0\n"
          ]
        }
      ]
    },
    {
      "cell_type": "markdown",
      "source": [
        "Ahora, construiremos el codigo de nuestra aplicación, es por lo mismo que escribimos el archivo app.py, en la cual, debemos insertar todos los componentes que queremos que streamlit interprete y despliegue en la aplicación"
      ],
      "metadata": {
        "id": "smVmi-Rsnpv5"
      }
    },
    {
      "cell_type": "markdown",
      "metadata": {
        "id": "5ff0qf7hHSt-"
      },
      "source": [
        "Esta celda contiene la aplicación (`app.py`), cualquier modificación volver a ejecutar esta celda para guardar nueva versión de la app. "
      ]
    },
    {
      "cell_type": "code",
      "metadata": {
        "colab": {
          "base_uri": "https://localhost:8080/"
        },
        "id": "aB4XUlaY9tVV",
        "outputId": "463c80cd-0b36-4594-9645-e5e7a4c8d8d9"
      },
      "source": [
        "%%writefile app.py \n",
        "\n",
        "import streamlit as st \n",
        "import os\n",
        "from textblob import TextBlob \n",
        "import spacy\n",
        "from gensim.summarization import summarize\n",
        "\n",
        "# paquete para text summarization \n",
        "from sumy.parsers.plaintext import PlaintextParser\n",
        "from sumy.nlp.tokenizers import Tokenizer\n",
        "from sumy.summarizers.lex_rank import LexRankSummarizer\n",
        "\n",
        "import nltk\n",
        "nltk.download('punkt')\n",
        "\n",
        "\n",
        "# funcion para summarization \n",
        "def sumy_summarizer(docx):\n",
        "\tparser = PlaintextParser.from_string(docx,Tokenizer(\"english\"))\n",
        "\tlex_summarizer = LexRankSummarizer()\n",
        "\tsummary = lex_summarizer(parser.document,3)\n",
        "\tsummary_list = [str(sentence) for sentence in summary]\n",
        "\tresult = ' '.join(summary_list)\n",
        "\treturn result\n",
        "\n",
        "# funcion para obtener tokens \n",
        "@st.cache\n",
        "def text_analyzer(my_text):\n",
        "\tnlp = spacy.load('en_core_web_sm')\n",
        "\tdocx = nlp(my_text)\n",
        "\t# tokens = [ token.text for token in docx]\n",
        "\tallData = [('\"Token\":{},\\n\"Lemma\":{}'.format(token.text,token.lemma_))for token in docx ]\n",
        "\treturn allData\n",
        "\n",
        "# funcion para extraer entidades\n",
        "@st.cache\n",
        "def entity_analyzer(my_text):\n",
        "\tnlp = spacy.load('en_core_web_sm')\n",
        "\tdocx = nlp(my_text)\n",
        "\ttokens = [ token.text for token in docx]\n",
        "\tentities = [(entity.text,entity.label_)for entity in docx.ents]\n",
        "\tallData = ['\"Token\":{},\\n\"Entities\":{}'.format(tokens,entities)]\n",
        "\treturn allData\n",
        "\n",
        "# Titulo \n",
        "st.title(\"Aplicación NLP con Streamlit\")\n",
        "st.subheader(\"Natural Language Processing On the Go..\")\n",
        "st.markdown(\"\"\"\n",
        "    #### Descripción\n",
        "    + Esta aplicación de NLP permite hacer diversas tareas como \n",
        "    Tokenization,NER,Sentiment,Summarization en idioma inglés. \n",
        "    \"\"\")\n",
        "\n",
        "# Tokenizer\n",
        "if st.checkbox(\"Mostrar Tokens and Lemma\"):\n",
        "  st.subheader(\"Tokenizar tu Texto\")\n",
        "\n",
        "  message = st.text_area(\"Ingresa Texto\",\"Escribe aqui ..\")\n",
        "  if st.button(\"Analizar\"):\n",
        "    nlp_result = text_analyzer(message)\n",
        "    st.json(nlp_result)\n",
        "\n",
        "# Entity Extraction\n",
        "if st.checkbox(\"Mostrar Entidades \"):\n",
        "  st.subheader(\"Analizar texto\")\n",
        "\n",
        "  message = st.text_area(\"Ingresa texto\",\"Escribe aqui ..\")\n",
        "\n",
        "  if st.button(\"Extract\"):\n",
        "    entity_result = entity_analyzer(message)\n",
        "    st.json(entity_result)\n",
        "\n",
        "# Sentiment Analysis\n",
        "if st.checkbox(\"Mostrar Sentiment Analysis\"):\n",
        "  st.subheader(\"Analizar Texto\")\n",
        "\n",
        "  message = st.text_area(\"Ingresa Texto\",\"Escribe aqui ..\")\n",
        "  if st.button(\"Analizar\"):\n",
        "    blob = TextBlob(message)\n",
        "    result_sentiment = blob.sentiment\n",
        "    st.success(result_sentiment)\n",
        "\n",
        "# Summarization\n",
        "if st.checkbox(\"Mostrar Text Summarization\"):\n",
        "  st.subheader(\"Resumir texto\")\n",
        "\n",
        "  message = st.text_area(\"Ingresa Texto\",\"Escribe aqui ..\")\n",
        "  summary_options = st.selectbox(\"Escoger Summarizer\",['sumy','gensim'])\n",
        "\n",
        "  if st.button(\"Summarize\"):\n",
        "    if summary_options == 'sumy':\n",
        "      st.text(\"Using Sumy Summarizer ..\")\n",
        "      summary_result = sumy_summarizer(message)\n",
        "\n",
        "    elif summary_options == 'gensim':\n",
        "      st.text(\"Using Gensim Summarizer ..\")\n",
        "      summary_result = summarize(message)\n",
        "    \n",
        "    else:\n",
        "      st.warning(\"Using Default Summarizer\")\n",
        "      st.text(\"Using Gensim Summarizer ..\")\n",
        "      summary_result = summarize(message)\n",
        "\n",
        "\n",
        "    st.success(summary_result)"
      ],
      "execution_count": null,
      "outputs": [
        {
          "output_type": "stream",
          "name": "stdout",
          "text": [
            "Overwriting app.py\n"
          ]
        }
      ]
    },
    {
      "cell_type": "markdown",
      "metadata": {
        "id": "QUO-4KeW97oh"
      },
      "source": [
        "## Ejecutar aplicación en otra ventana "
      ]
    },
    {
      "cell_type": "markdown",
      "source": [
        "Para ejecutar la aplicación, debemos instalar [pyngrok](https://pyngrok.readthedocs.io/en/latest/index.html)"
      ],
      "metadata": {
        "id": "ViJ3MfqInt9N"
      }
    },
    {
      "cell_type": "code",
      "source": [
        "!pip install pyngrok"
      ],
      "metadata": {
        "colab": {
          "base_uri": "https://localhost:8080/"
        },
        "id": "kBSmjpAjrN7O",
        "outputId": "c49be4ae-4e0c-40b2-80eb-2dd48545311a"
      },
      "execution_count": null,
      "outputs": [
        {
          "output_type": "stream",
          "name": "stdout",
          "text": [
            "Looking in indexes: https://pypi.org/simple, https://us-python.pkg.dev/colab-wheels/public/simple/\n",
            "Requirement already satisfied: pyngrok in /usr/local/lib/python3.7/dist-packages (5.1.0)\n",
            "Requirement already satisfied: PyYAML in /usr/local/lib/python3.7/dist-packages (from pyngrok) (6.0)\n"
          ]
        }
      ]
    },
    {
      "cell_type": "code",
      "source": [
        "from pyngrok import ngrok"
      ],
      "metadata": {
        "id": "OGaNks82qu4J"
      },
      "execution_count": null,
      "outputs": []
    },
    {
      "cell_type": "markdown",
      "source": [
        "Para que generemos el link, es necesario registrarse en este [link](https://dashboard.ngrok.com/get-started/setup) y en reemplazar TOKEN_NGROK por el codigo mostrado en \"Your Authtoken\""
      ],
      "metadata": {
        "id": "t2iYJktPnyh3"
      }
    },
    {
      "cell_type": "code",
      "source": [
        "# INSERTAR TOKEN PROPIO DE NGROK\n",
        "!ngrok authtoken 2HdboCJr9kSBtO1pKhLLqISNAAJ_23WbGwDtonaMEuPetY3uT"
      ],
      "metadata": {
        "colab": {
          "base_uri": "https://localhost:8080/"
        },
        "id": "1ndVbgnlqwyS",
        "outputId": "2d6f6d76-33fc-4a24-9455-258fd6be271d"
      },
      "execution_count": null,
      "outputs": [
        {
          "output_type": "stream",
          "name": "stdout",
          "text": [
            "Authtoken saved to configuration file: /root/.ngrok2/ngrok.yml\n"
          ]
        }
      ]
    },
    {
      "cell_type": "code",
      "source": [
        "public_url = ngrok.connect(port='8501')\n",
        "public_url"
      ],
      "metadata": {
        "colab": {
          "base_uri": "https://localhost:8080/"
        },
        "id": "Z4N5m30cqyVN",
        "outputId": "78ace038-6bdc-4975-c203-6fcceafc180a"
      },
      "execution_count": null,
      "outputs": [
        {
          "output_type": "execute_result",
          "data": {
            "text/plain": [
              "<NgrokTunnel: \"http://0404-34-86-72-84.ngrok.io\" -> \"http://localhost:80\">"
            ]
          },
          "metadata": {},
          "execution_count": 13
        }
      ]
    },
    {
      "cell_type": "markdown",
      "source": [
        "Finalmente, ejecutamos la aplicación y se nos mostrará el link donde será posible verla en acción"
      ],
      "metadata": {
        "id": "Fc0m0u1ln1nr"
      }
    },
    {
      "cell_type": "code",
      "source": [
        "!streamlit run app.py & npx localtunnel --port 8501"
      ],
      "metadata": {
        "colab": {
          "base_uri": "https://localhost:8080/"
        },
        "id": "_GZxcUWHqz28",
        "outputId": "cb1d8b54-9cec-4cf9-8e03-6d3c264f4fca"
      },
      "execution_count": null,
      "outputs": [
        {
          "output_type": "stream",
          "name": "stdout",
          "text": [
            "[###########.......] / extract:yargs-parser: sill extract yargs-parser@^20.2.2\u001b[0m\u001b[K\n",
            "Collecting usage statistics. To deactivate, set browser.gatherUsageStats to False.\n",
            "\u001b[0m\n",
            "\u001b[K\u001b[?25hnpx: installed 22 in 3.204s\n",
            "\u001b[0m\n",
            "\u001b[34m\u001b[1m  You can now view your Streamlit app in your browser.\u001b[0m\n",
            "\u001b[0m\n",
            "\u001b[34m  Network URL: \u001b[0m\u001b[1mhttp://172.28.0.2:8501\u001b[0m\n",
            "\u001b[34m  External URL: \u001b[0m\u001b[1mhttp://34.86.72.84:8501\u001b[0m\n",
            "\u001b[0m\n",
            "your url is: https://huge-plants-tan-34-86-72-84.loca.lt\n",
            "2022-11-17 23:01:04.474806: E tensorflow/stream_executor/cuda/cuda_driver.cc:271] failed call to cuInit: CUDA_ERROR_NO_DEVICE: no CUDA-capable device is detected\n",
            "2022-11-17 23:01:04.966 'pattern' package not found; tag filters are not available for English\n",
            "[nltk_data] Downloading package punkt to /root/nltk_data...\n",
            "[nltk_data]   Package punkt is already up-to-date!\n",
            "[nltk_data] Downloading package punkt to /root/nltk_data...\n",
            "[nltk_data]   Package punkt is already up-to-date!\n",
            "[nltk_data] Downloading package punkt to /root/nltk_data...\n",
            "[nltk_data]   Package punkt is already up-to-date!\n",
            "[nltk_data] Downloading package punkt to /root/nltk_data...\n",
            "[nltk_data]   Package punkt is already up-to-date!\n",
            "\u001b[34m  Stopping...\u001b[0m\n",
            "^C\n"
          ]
        }
      ]
    },
    {
      "cell_type": "code",
      "source": [],
      "metadata": {
        "id": "hel48--5r7hF"
      },
      "execution_count": null,
      "outputs": []
    }
  ]
}