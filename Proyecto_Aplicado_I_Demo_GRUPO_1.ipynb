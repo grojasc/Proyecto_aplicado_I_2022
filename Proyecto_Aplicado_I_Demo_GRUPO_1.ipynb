{
  "nbformat": 4,
  "nbformat_minor": 0,
  "metadata": {
    "colab": {
      "provenance": [],
      "authorship_tag": "ABX9TyNWWHtbkjn6w00ri+XmN1I/",
      "include_colab_link": true
    },
    "kernelspec": {
      "name": "python3",
      "display_name": "Python 3"
    },
    "language_info": {
      "name": "python"
    }
  },
  "cells": [
    {
      "cell_type": "markdown",
      "metadata": {
        "id": "view-in-github",
        "colab_type": "text"
      },
      "source": [
        "<a href=\"https://colab.research.google.com/github/grojasc/Proyecto_aplicado_I_2022/blob/main/Proyecto_Aplicado_I_Demo_GRUPO_1.ipynb\" target=\"_parent\"><img src=\"https://colab.research.google.com/assets/colab-badge.svg\" alt=\"Open In Colab\"/></a>"
      ]
    },
    {
      "cell_type": "markdown",
      "source": [
        "## Instalar Librerías\n",
        "---\n"
      ],
      "metadata": {
        "id": "lmO1iSdSuXST"
      }
    },
    {
      "cell_type": "code",
      "source": [
        "!pip install streamlit-authenticator\n",
        "!pip install path"
      ],
      "metadata": {
        "colab": {
          "base_uri": "https://localhost:8080/"
        },
        "id": "ViaWzHy72DHk",
        "outputId": "6102ff81-ea59-4ea8-ef34-55826a4cd182"
      },
      "execution_count": 1,
      "outputs": [
        {
          "output_type": "stream",
          "name": "stdout",
          "text": [
            "Looking in indexes: https://pypi.org/simple, https://us-python.pkg.dev/colab-wheels/public/simple/\n",
            "Collecting streamlit-authenticator\n",
            "  Downloading streamlit-authenticator-0.2.1.tar.gz (11 kB)\n",
            "Collecting PyJWT>=2.3.0\n",
            "  Downloading PyJWT-2.6.0-py3-none-any.whl (20 kB)\n",
            "Collecting bcrypt>=3.1.7\n",
            "  Downloading bcrypt-4.0.1-cp36-abi3-manylinux_2_24_x86_64.whl (593 kB)\n",
            "\u001b[K     |████████████████████████████████| 593 kB 18.8 MB/s \n",
            "\u001b[?25hRequirement already satisfied: PyYAML>=5.3.1 in /usr/local/lib/python3.8/dist-packages (from streamlit-authenticator) (6.0)\n",
            "Collecting streamlit>=0.86\n",
            "  Downloading streamlit-1.15.2-py2.py3-none-any.whl (9.2 MB)\n",
            "\u001b[K     |████████████████████████████████| 9.2 MB 12.9 MB/s \n",
            "\u001b[?25hCollecting extra-streamlit-components>=0.1.55\n",
            "  Downloading extra_streamlit_components-0.1.56-py3-none-any.whl (4.4 MB)\n",
            "\u001b[K     |████████████████████████████████| 4.4 MB 48.0 MB/s \n",
            "\u001b[?25hRequirement already satisfied: altair>=3.2.0 in /usr/local/lib/python3.8/dist-packages (from streamlit>=0.86->streamlit-authenticator) (4.2.0)\n",
            "Requirement already satisfied: cachetools>=4.0 in /usr/local/lib/python3.8/dist-packages (from streamlit>=0.86->streamlit-authenticator) (5.2.0)\n",
            "Collecting watchdog\n",
            "  Downloading watchdog-2.2.0-py3-none-manylinux2014_x86_64.whl (78 kB)\n",
            "\u001b[K     |████████████████████████████████| 78 kB 3.8 MB/s \n",
            "\u001b[?25hCollecting blinker>=1.0.0\n",
            "  Downloading blinker-1.5-py2.py3-none-any.whl (12 kB)\n",
            "Requirement already satisfied: packaging>=14.1 in /usr/local/lib/python3.8/dist-packages (from streamlit>=0.86->streamlit-authenticator) (21.3)\n",
            "Requirement already satisfied: click>=7.0 in /usr/local/lib/python3.8/dist-packages (from streamlit>=0.86->streamlit-authenticator) (7.1.2)\n",
            "Collecting gitpython!=3.1.19\n",
            "  Downloading GitPython-3.1.29-py3-none-any.whl (182 kB)\n",
            "\u001b[K     |████████████████████████████████| 182 kB 57.6 MB/s \n",
            "\u001b[?25hCollecting rich>=10.11.0\n",
            "  Downloading rich-12.6.0-py3-none-any.whl (237 kB)\n",
            "\u001b[K     |████████████████████████████████| 237 kB 31.9 MB/s \n",
            "\u001b[?25hRequirement already satisfied: tornado>=5.0 in /usr/local/lib/python3.8/dist-packages (from streamlit>=0.86->streamlit-authenticator) (6.0.4)\n",
            "Collecting pympler>=0.9\n",
            "  Downloading Pympler-1.0.1-py3-none-any.whl (164 kB)\n",
            "\u001b[K     |████████████████████████████████| 164 kB 56.0 MB/s \n",
            "\u001b[?25hRequirement already satisfied: python-dateutil in /usr/local/lib/python3.8/dist-packages (from streamlit>=0.86->streamlit-authenticator) (2.8.2)\n",
            "Collecting validators>=0.2\n",
            "  Downloading validators-0.20.0.tar.gz (30 kB)\n",
            "Collecting semver\n",
            "  Downloading semver-2.13.0-py2.py3-none-any.whl (12 kB)\n",
            "Requirement already satisfied: pyarrow>=4.0 in /usr/local/lib/python3.8/dist-packages (from streamlit>=0.86->streamlit-authenticator) (9.0.0)\n",
            "Requirement already satisfied: typing-extensions>=3.10.0.0 in /usr/local/lib/python3.8/dist-packages (from streamlit>=0.86->streamlit-authenticator) (4.1.1)\n",
            "Requirement already satisfied: pillow>=6.2.0 in /usr/local/lib/python3.8/dist-packages (from streamlit>=0.86->streamlit-authenticator) (7.1.2)\n",
            "Requirement already satisfied: importlib-metadata>=1.4 in /usr/local/lib/python3.8/dist-packages (from streamlit>=0.86->streamlit-authenticator) (4.13.0)\n",
            "Requirement already satisfied: numpy in /usr/local/lib/python3.8/dist-packages (from streamlit>=0.86->streamlit-authenticator) (1.21.6)\n",
            "Collecting pydeck>=0.1.dev5\n",
            "  Downloading pydeck-0.8.0-py2.py3-none-any.whl (4.7 MB)\n",
            "\u001b[K     |████████████████████████████████| 4.7 MB 18.0 MB/s \n",
            "\u001b[?25hRequirement already satisfied: requests>=2.4 in /usr/local/lib/python3.8/dist-packages (from streamlit>=0.86->streamlit-authenticator) (2.23.0)\n",
            "Requirement already satisfied: tzlocal>=1.1 in /usr/local/lib/python3.8/dist-packages (from streamlit>=0.86->streamlit-authenticator) (1.5.1)\n",
            "Requirement already satisfied: protobuf<4,>=3.12 in /usr/local/lib/python3.8/dist-packages (from streamlit>=0.86->streamlit-authenticator) (3.19.6)\n",
            "Requirement already satisfied: toml in /usr/local/lib/python3.8/dist-packages (from streamlit>=0.86->streamlit-authenticator) (0.10.2)\n",
            "Requirement already satisfied: pandas>=0.21.0 in /usr/local/lib/python3.8/dist-packages (from streamlit>=0.86->streamlit-authenticator) (1.3.5)\n",
            "Requirement already satisfied: toolz in /usr/local/lib/python3.8/dist-packages (from altair>=3.2.0->streamlit>=0.86->streamlit-authenticator) (0.12.0)\n",
            "Requirement already satisfied: jinja2 in /usr/local/lib/python3.8/dist-packages (from altair>=3.2.0->streamlit>=0.86->streamlit-authenticator) (2.11.3)\n",
            "Requirement already satisfied: entrypoints in /usr/local/lib/python3.8/dist-packages (from altair>=3.2.0->streamlit>=0.86->streamlit-authenticator) (0.4)\n",
            "Requirement already satisfied: jsonschema>=3.0 in /usr/local/lib/python3.8/dist-packages (from altair>=3.2.0->streamlit>=0.86->streamlit-authenticator) (4.3.3)\n",
            "Collecting gitdb<5,>=4.0.1\n",
            "  Downloading gitdb-4.0.10-py3-none-any.whl (62 kB)\n",
            "\u001b[K     |████████████████████████████████| 62 kB 375 kB/s \n",
            "\u001b[?25hCollecting smmap<6,>=3.0.1\n",
            "  Downloading smmap-5.0.0-py3-none-any.whl (24 kB)\n",
            "Requirement already satisfied: zipp>=0.5 in /usr/local/lib/python3.8/dist-packages (from importlib-metadata>=1.4->streamlit>=0.86->streamlit-authenticator) (3.10.0)\n",
            "Requirement already satisfied: pyrsistent!=0.17.0,!=0.17.1,!=0.17.2,>=0.14.0 in /usr/local/lib/python3.8/dist-packages (from jsonschema>=3.0->altair>=3.2.0->streamlit>=0.86->streamlit-authenticator) (0.19.2)\n",
            "Requirement already satisfied: attrs>=17.4.0 in /usr/local/lib/python3.8/dist-packages (from jsonschema>=3.0->altair>=3.2.0->streamlit>=0.86->streamlit-authenticator) (22.1.0)\n",
            "Requirement already satisfied: importlib-resources>=1.4.0 in /usr/local/lib/python3.8/dist-packages (from jsonschema>=3.0->altair>=3.2.0->streamlit>=0.86->streamlit-authenticator) (5.10.0)\n",
            "Requirement already satisfied: pyparsing!=3.0.5,>=2.0.2 in /usr/local/lib/python3.8/dist-packages (from packaging>=14.1->streamlit>=0.86->streamlit-authenticator) (3.0.9)\n",
            "Requirement already satisfied: pytz>=2017.3 in /usr/local/lib/python3.8/dist-packages (from pandas>=0.21.0->streamlit>=0.86->streamlit-authenticator) (2022.6)\n",
            "Requirement already satisfied: MarkupSafe>=0.23 in /usr/local/lib/python3.8/dist-packages (from jinja2->altair>=3.2.0->streamlit>=0.86->streamlit-authenticator) (2.0.1)\n",
            "Requirement already satisfied: six>=1.5 in /usr/local/lib/python3.8/dist-packages (from python-dateutil->streamlit>=0.86->streamlit-authenticator) (1.15.0)\n",
            "Requirement already satisfied: urllib3!=1.25.0,!=1.25.1,<1.26,>=1.21.1 in /usr/local/lib/python3.8/dist-packages (from requests>=2.4->streamlit>=0.86->streamlit-authenticator) (1.24.3)\n",
            "Requirement already satisfied: idna<3,>=2.5 in /usr/local/lib/python3.8/dist-packages (from requests>=2.4->streamlit>=0.86->streamlit-authenticator) (2.10)\n",
            "Requirement already satisfied: certifi>=2017.4.17 in /usr/local/lib/python3.8/dist-packages (from requests>=2.4->streamlit>=0.86->streamlit-authenticator) (2022.9.24)\n",
            "Requirement already satisfied: chardet<4,>=3.0.2 in /usr/local/lib/python3.8/dist-packages (from requests>=2.4->streamlit>=0.86->streamlit-authenticator) (3.0.4)\n",
            "Collecting commonmark<0.10.0,>=0.9.0\n",
            "  Downloading commonmark-0.9.1-py2.py3-none-any.whl (51 kB)\n",
            "\u001b[K     |████████████████████████████████| 51 kB 2.9 MB/s \n",
            "\u001b[?25hRequirement already satisfied: pygments<3.0.0,>=2.6.0 in /usr/local/lib/python3.8/dist-packages (from rich>=10.11.0->streamlit>=0.86->streamlit-authenticator) (2.6.1)\n",
            "Requirement already satisfied: decorator>=3.4.0 in /usr/local/lib/python3.8/dist-packages (from validators>=0.2->streamlit>=0.86->streamlit-authenticator) (4.4.2)\n",
            "Building wheels for collected packages: streamlit-authenticator, validators\n",
            "  Building wheel for streamlit-authenticator (setup.py) ... \u001b[?25l\u001b[?25hdone\n",
            "  Created wheel for streamlit-authenticator: filename=streamlit_authenticator-0.2.1-py3-none-any.whl size=10198 sha256=fb19c5c3e12c785e74627e623a8a71263963c63d091af6cb600a011bb4f561b1\n",
            "  Stored in directory: /root/.cache/pip/wheels/3c/be/0a/a1ee2460cd46bfbc56d9d6d0530828eda02949737cb6968fcf\n",
            "  Building wheel for validators (setup.py) ... \u001b[?25l\u001b[?25hdone\n",
            "  Created wheel for validators: filename=validators-0.20.0-py3-none-any.whl size=19581 sha256=71fcd7226c8df0c45efb44a482aecd59c3b2b6600fedd4ed9b97a3fe1eaac5ca\n",
            "  Stored in directory: /root/.cache/pip/wheels/19/09/72/3eb74d236bb48bd0f3c6c3c83e4e0c5bbfcbcad7c6c3539db8\n",
            "Successfully built streamlit-authenticator validators\n",
            "Installing collected packages: smmap, gitdb, commonmark, watchdog, validators, semver, rich, pympler, pydeck, gitpython, blinker, streamlit, PyJWT, extra-streamlit-components, bcrypt, streamlit-authenticator\n",
            "Successfully installed PyJWT-2.6.0 bcrypt-4.0.1 blinker-1.5 commonmark-0.9.1 extra-streamlit-components-0.1.56 gitdb-4.0.10 gitpython-3.1.29 pydeck-0.8.0 pympler-1.0.1 rich-12.6.0 semver-2.13.0 smmap-5.0.0 streamlit-1.15.2 streamlit-authenticator-0.2.1 validators-0.20.0 watchdog-2.2.0\n",
            "Looking in indexes: https://pypi.org/simple, https://us-python.pkg.dev/colab-wheels/public/simple/\n",
            "Collecting path\n",
            "  Downloading path-16.6.0-py3-none-any.whl (26 kB)\n",
            "Installing collected packages: path\n",
            "Successfully installed path-16.6.0\n"
          ]
        }
      ]
    },
    {
      "cell_type": "code",
      "source": [
        "!pip install streamlit==1.14.1\n"
      ],
      "metadata": {
        "colab": {
          "base_uri": "https://localhost:8080/"
        },
        "id": "Bixj9FratiB7",
        "outputId": "9e09232d-00b5-406d-d629-d3024682db9b"
      },
      "execution_count": 2,
      "outputs": [
        {
          "output_type": "stream",
          "name": "stdout",
          "text": [
            "Looking in indexes: https://pypi.org/simple, https://us-python.pkg.dev/colab-wheels/public/simple/\n",
            "Collecting streamlit==1.14.1\n",
            "  Downloading streamlit-1.14.1-py2.py3-none-any.whl (9.2 MB)\n",
            "\u001b[K     |████████████████████████████████| 9.2 MB 19.7 MB/s \n",
            "\u001b[?25hRequirement already satisfied: gitpython!=3.1.19 in /usr/local/lib/python3.8/dist-packages (from streamlit==1.14.1) (3.1.29)\n",
            "Requirement already satisfied: tzlocal>=1.1 in /usr/local/lib/python3.8/dist-packages (from streamlit==1.14.1) (1.5.1)\n",
            "Requirement already satisfied: pympler>=0.9 in /usr/local/lib/python3.8/dist-packages (from streamlit==1.14.1) (1.0.1)\n",
            "Requirement already satisfied: importlib-metadata>=1.4 in /usr/local/lib/python3.8/dist-packages (from streamlit==1.14.1) (4.13.0)\n",
            "Requirement already satisfied: cachetools>=4.0 in /usr/local/lib/python3.8/dist-packages (from streamlit==1.14.1) (5.2.0)\n",
            "Requirement already satisfied: tornado>=5.0 in /usr/local/lib/python3.8/dist-packages (from streamlit==1.14.1) (6.0.4)\n",
            "Requirement already satisfied: pandas>=0.21.0 in /usr/local/lib/python3.8/dist-packages (from streamlit==1.14.1) (1.3.5)\n",
            "Requirement already satisfied: requests>=2.4 in /usr/local/lib/python3.8/dist-packages (from streamlit==1.14.1) (2.23.0)\n",
            "Requirement already satisfied: protobuf<4,>=3.12 in /usr/local/lib/python3.8/dist-packages (from streamlit==1.14.1) (3.19.6)\n",
            "Requirement already satisfied: rich>=10.11.0 in /usr/local/lib/python3.8/dist-packages (from streamlit==1.14.1) (12.6.0)\n",
            "Requirement already satisfied: watchdog in /usr/local/lib/python3.8/dist-packages (from streamlit==1.14.1) (2.2.0)\n",
            "Requirement already satisfied: blinker>=1.0.0 in /usr/local/lib/python3.8/dist-packages (from streamlit==1.14.1) (1.5)\n",
            "Requirement already satisfied: python-dateutil in /usr/local/lib/python3.8/dist-packages (from streamlit==1.14.1) (2.8.2)\n",
            "Requirement already satisfied: semver in /usr/local/lib/python3.8/dist-packages (from streamlit==1.14.1) (2.13.0)\n",
            "Requirement already satisfied: packaging>=14.1 in /usr/local/lib/python3.8/dist-packages (from streamlit==1.14.1) (21.3)\n",
            "Requirement already satisfied: typing-extensions>=3.10.0.0 in /usr/local/lib/python3.8/dist-packages (from streamlit==1.14.1) (4.1.1)\n",
            "Requirement already satisfied: pydeck>=0.1.dev5 in /usr/local/lib/python3.8/dist-packages (from streamlit==1.14.1) (0.8.0)\n",
            "Requirement already satisfied: click>=7.0 in /usr/local/lib/python3.8/dist-packages (from streamlit==1.14.1) (7.1.2)\n",
            "Requirement already satisfied: toml in /usr/local/lib/python3.8/dist-packages (from streamlit==1.14.1) (0.10.2)\n",
            "Requirement already satisfied: altair>=3.2.0 in /usr/local/lib/python3.8/dist-packages (from streamlit==1.14.1) (4.2.0)\n",
            "Requirement already satisfied: pillow>=6.2.0 in /usr/local/lib/python3.8/dist-packages (from streamlit==1.14.1) (7.1.2)\n",
            "Requirement already satisfied: numpy in /usr/local/lib/python3.8/dist-packages (from streamlit==1.14.1) (1.21.6)\n",
            "Requirement already satisfied: validators>=0.2 in /usr/local/lib/python3.8/dist-packages (from streamlit==1.14.1) (0.20.0)\n",
            "Requirement already satisfied: pyarrow>=4.0 in /usr/local/lib/python3.8/dist-packages (from streamlit==1.14.1) (9.0.0)\n",
            "Requirement already satisfied: toolz in /usr/local/lib/python3.8/dist-packages (from altair>=3.2.0->streamlit==1.14.1) (0.12.0)\n",
            "Requirement already satisfied: jinja2 in /usr/local/lib/python3.8/dist-packages (from altair>=3.2.0->streamlit==1.14.1) (2.11.3)\n",
            "Requirement already satisfied: entrypoints in /usr/local/lib/python3.8/dist-packages (from altair>=3.2.0->streamlit==1.14.1) (0.4)\n",
            "Requirement already satisfied: jsonschema>=3.0 in /usr/local/lib/python3.8/dist-packages (from altair>=3.2.0->streamlit==1.14.1) (4.3.3)\n",
            "Requirement already satisfied: gitdb<5,>=4.0.1 in /usr/local/lib/python3.8/dist-packages (from gitpython!=3.1.19->streamlit==1.14.1) (4.0.10)\n",
            "Requirement already satisfied: smmap<6,>=3.0.1 in /usr/local/lib/python3.8/dist-packages (from gitdb<5,>=4.0.1->gitpython!=3.1.19->streamlit==1.14.1) (5.0.0)\n",
            "Requirement already satisfied: zipp>=0.5 in /usr/local/lib/python3.8/dist-packages (from importlib-metadata>=1.4->streamlit==1.14.1) (3.10.0)\n",
            "Requirement already satisfied: importlib-resources>=1.4.0 in /usr/local/lib/python3.8/dist-packages (from jsonschema>=3.0->altair>=3.2.0->streamlit==1.14.1) (5.10.0)\n",
            "Requirement already satisfied: pyrsistent!=0.17.0,!=0.17.1,!=0.17.2,>=0.14.0 in /usr/local/lib/python3.8/dist-packages (from jsonschema>=3.0->altair>=3.2.0->streamlit==1.14.1) (0.19.2)\n",
            "Requirement already satisfied: attrs>=17.4.0 in /usr/local/lib/python3.8/dist-packages (from jsonschema>=3.0->altair>=3.2.0->streamlit==1.14.1) (22.1.0)\n",
            "Requirement already satisfied: pyparsing!=3.0.5,>=2.0.2 in /usr/local/lib/python3.8/dist-packages (from packaging>=14.1->streamlit==1.14.1) (3.0.9)\n",
            "Requirement already satisfied: pytz>=2017.3 in /usr/local/lib/python3.8/dist-packages (from pandas>=0.21.0->streamlit==1.14.1) (2022.6)\n",
            "Requirement already satisfied: MarkupSafe>=0.23 in /usr/local/lib/python3.8/dist-packages (from jinja2->altair>=3.2.0->streamlit==1.14.1) (2.0.1)\n",
            "Requirement already satisfied: six>=1.5 in /usr/local/lib/python3.8/dist-packages (from python-dateutil->streamlit==1.14.1) (1.15.0)\n",
            "Requirement already satisfied: urllib3!=1.25.0,!=1.25.1,<1.26,>=1.21.1 in /usr/local/lib/python3.8/dist-packages (from requests>=2.4->streamlit==1.14.1) (1.24.3)\n",
            "Requirement already satisfied: idna<3,>=2.5 in /usr/local/lib/python3.8/dist-packages (from requests>=2.4->streamlit==1.14.1) (2.10)\n",
            "Requirement already satisfied: chardet<4,>=3.0.2 in /usr/local/lib/python3.8/dist-packages (from requests>=2.4->streamlit==1.14.1) (3.0.4)\n",
            "Requirement already satisfied: certifi>=2017.4.17 in /usr/local/lib/python3.8/dist-packages (from requests>=2.4->streamlit==1.14.1) (2022.9.24)\n",
            "Requirement already satisfied: pygments<3.0.0,>=2.6.0 in /usr/local/lib/python3.8/dist-packages (from rich>=10.11.0->streamlit==1.14.1) (2.6.1)\n",
            "Requirement already satisfied: commonmark<0.10.0,>=0.9.0 in /usr/local/lib/python3.8/dist-packages (from rich>=10.11.0->streamlit==1.14.1) (0.9.1)\n",
            "Requirement already satisfied: decorator>=3.4.0 in /usr/local/lib/python3.8/dist-packages (from validators>=0.2->streamlit==1.14.1) (4.4.2)\n",
            "Installing collected packages: streamlit\n",
            "  Attempting uninstall: streamlit\n",
            "    Found existing installation: streamlit 1.15.2\n",
            "    Uninstalling streamlit-1.15.2:\n",
            "      Successfully uninstalled streamlit-1.15.2\n",
            "Successfully installed streamlit-1.14.1\n"
          ]
        }
      ]
    },
    {
      "cell_type": "code",
      "execution_count": 3,
      "metadata": {
        "id": "4cLUOB1Ps-Ls"
      },
      "outputs": [],
      "source": [
        "import streamlit as st\n",
        "import pandas as pd\n",
        "import numpy as np\n",
        "from PIL import Image\n",
        "import streamlit.components.v1 as components"
      ]
    },
    {
      "cell_type": "markdown",
      "source": [
        "## Definición de Funciones\n"
      ],
      "metadata": {
        "id": "zsZjaZ4iujHm"
      }
    },
    {
      "cell_type": "code",
      "source": [
        "import os \n",
        "from PIL import Image, ImageOps\n",
        "import numpy as np\n",
        "import pandas as pd\n",
        "\n",
        "\n",
        "def get_item_image(item_id, resize=True, width=100, height = 150):\n",
        "    \n",
        "    path = 'results/images/'+item_id+'.jpeg'\n",
        "    image = Image.open(path)\n",
        "    \n",
        "    if resize:\n",
        "        basewidth = width\n",
        "        wpercent = (basewidth / float(image.size[0]))\n",
        "        hsize = int((float(image.size[1]) * float(wpercent)))\n",
        "        image = image.resize((width, height), Image.ANTIALIAS)\n",
        "    image = ImageOps.expand(image, 2)\n",
        "        \n",
        "    return image    \n",
        "\n",
        "\n",
        "def get_rcmnds(customer_data):\n",
        "    \n",
        "    combined_rcmnds = customer_data.combined_rcmnds.values\n",
        "    tfrs_rcmnds = customer_data.tfrs_rcmnds.values\n",
        "    image_rcmnds = customer_data.image_rcmnds.values\n",
        "    text_rcmnds = customer_data.text_rcmnds.values\n",
        "    feature_rcmnds = customer_data.feature_rcmnds.values\n",
        "\n",
        "    return image_rcmnds, text_rcmnds, feature_rcmnds, tfrs_rcmnds, combined_rcmnds\n",
        "\n",
        "def get_rcmnds_scores(customer_data):\n",
        "    \n",
        "    combined_rcmnds = customer_data.combined_scores.values\n",
        "    tfrs_rcmnds = customer_data.tfrs_scores.values\n",
        "    image_rcmnds = customer_data.image_scores.values\n",
        "    text_rcmnds = customer_data.text_scores.values\n",
        "    feature_rcmnds = customer_data.feature_scores.values\n",
        "\n",
        "    return image_rcmnds, text_rcmnds, feature_rcmnds, tfrs_rcmnds, combined_rcmnds\n",
        "\n",
        "def get_rcmnds_images(image_rcmnds, text_rcmnds, feature_rcmnds, tfrs_rcmnds, combined_rcmnds):\n",
        "    \n",
        "    combined_rcmnds = [get_item_image(str(i)) for i in combined_rcmnds]\n",
        "    tfrs_rcmnds = [get_item_image(str(i)) for i in tfrs_rcmnds]\n",
        "    image_rcmnds = [get_item_image(str(i)) for i in image_rcmnds]\n",
        "    text_rcmnds = [get_item_image(str(i)) for i in text_rcmnds]\n",
        "    feature_rcmnds = [get_item_image(str(i)) for i in feature_rcmnds]\n",
        "    \n",
        "    return image_rcmnds, text_rcmnds, feature_rcmnds, tfrs_rcmnds, combined_rcmnds\n",
        "\n",
        "\n",
        "def get_rcmnds_features(df, image_rcmnds, text_rcmnds, feature_rcmnds, tfrs_rcmnds, combined_rcmnds):\n",
        "    \n",
        "    combined_rcmnds = df[df.article_id.isin(combined_rcmnds)][['product_type_name', 'colour_group_name', 'department_name']]\n",
        "    tfrs_rcmnds = df[df.article_id.isin(tfrs_rcmnds)][['product_type_name', 'colour_group_name', 'department_name']]\n",
        "    image_rcmnds = df[df.article_id.isin(image_rcmnds)][['product_type_name', 'colour_group_name', 'department_name']]\n",
        "    text_rcmnds = df[df.article_id.isin(text_rcmnds)][['product_type_name', 'colour_group_name', 'department_name']]\n",
        "    feature_rcmnds = df[df.article_id.isin(feature_rcmnds)][['product_type_name', 'colour_group_name', 'department_name']]\n",
        "    \n",
        "    return image_rcmnds, text_rcmnds, feature_rcmnds, tfrs_rcmnds, combined_rcmnds\n",
        "    \n",
        "\n",
        "def get_rcmnds_desc(df, image_rcmnds, text_rcmnds, feature_rcmnds, tfrs_rcmnds, combined_rcmnds):\n",
        "    \n",
        "    combined_rcmnds = df[df.article_id.isin(combined_rcmnds)].detail_desc\n",
        "    tfrs_rcmnds = df[df.article_id.isin(tfrs_rcmnds)].detail_desc\n",
        "    image_rcmnds = df[df.article_id.isin(image_rcmnds)].detail_desc\n",
        "    text_rcmnds = df[df.article_id.isin(text_rcmnds)].detail_desc\n",
        "    feature_rcmnds = df[df.article_id.isin(feature_rcmnds)].detail_desc\n",
        "    \n",
        "    return image_rcmnds, text_rcmnds, feature_rcmnds, tfrs_rcmnds, combined_rcmnds"
      ],
      "metadata": {
        "id": "ppvIAv5tte69"
      },
      "execution_count": 4,
      "outputs": []
    },
    {
      "cell_type": "markdown",
      "source": [
        "## Crear App con Streamlit\n",
        "---"
      ],
      "metadata": {
        "id": "kbqdKV5Uu7ZS"
      }
    },
    {
      "cell_type": "code",
      "source": [
        "from PIL import Image"
      ],
      "metadata": {
        "id": "trH2r5yJ2O9z"
      },
      "execution_count": null,
      "outputs": []
    },
    {
      "cell_type": "code",
      "source": [
        "%%writefile app.py\n",
        "import streamlit as st\n",
        "import pandas as pd\n",
        "import numpy as np\n",
        "import pickle\n",
        "import streamlit_authenticator as sauth\n",
        "from PIL import Image\n",
        "\n",
        "def main():\n",
        "  st.title(\"Alamacenes La Pelar\")\n",
        "  #st.subheader(\"Siempre todo original\")\n",
        "  img = Image.open(\"/content/descarga.png\")\n",
        "  st.image(img,width=100,caption=\"La Pelar\")\n",
        "  st.markdown(\"\"\"### _Elige los mejores productos originales de nuestras marcas adides y under amor_ :sunglasses:\"\"\",True)\n",
        "\n",
        "  menu = [\"Home\",\"About\",\"Login\",\"SignUp\"]\n",
        "  choice = st.sidebar.selectbox('Menu',menu)\n",
        "  if choice == 'Home':\n",
        "    st.subheader(\"Inicio\")\t\n",
        "\n",
        "  elif choice == \"Login\":\n",
        "    st.subheader(\"Login Section\")\t\n",
        "    username  = st.sidebar.text_input(\"User Name\")\n",
        "    password = st.sidebar.text_input(\"Password\",type='password' )\n",
        "    if st.sidebar.checkbox(\"Login\"):\n",
        "      if password == '12345':\n",
        "        st.success(\"Logged In as {}\".format(username))\n",
        "\n",
        "        file = st.file_uploader(\"Subir aquí la imagen \", type=[\"jpg\", \"jpeg\", \"png\"])\n",
        "        if file is None:\n",
        "          st.text(\"Por favor subir una imagen\")\n",
        "      else:\n",
        "        st.warning(\"Incorrect UserName/Password\")\n",
        "\n",
        "  elif choice == \"SignUp\":\n",
        "    st.subheader(\"Create New Account\")\t\n",
        "    new_user = st.text_input(\"UserName\")\n",
        "    new_password = st.text_input(\"Password\",type = 'password')\n",
        "    if st.button(\"SignUp\"):\n",
        "      st.success(\"you have successfully created an Account\")\n",
        "      st.info(\"Go to Login Menu\")\n",
        "\n",
        "\n",
        "\n",
        "\n",
        "\n",
        "\n",
        "\n",
        "\n",
        "\n",
        "\n",
        "\n",
        "\n",
        "\n",
        "\n",
        "\n",
        "\n",
        "\n",
        "\n",
        "if __name__ == '__main__':\n",
        "  main()"
      ],
      "metadata": {
        "colab": {
          "base_uri": "https://localhost:8080/"
        },
        "id": "o0JuUYyGunSs",
        "outputId": "fa137f17-0e6d-4ec3-ffae-a01b4619adc8"
      },
      "execution_count": 15,
      "outputs": [
        {
          "output_type": "stream",
          "name": "stdout",
          "text": [
            "Overwriting app.py\n"
          ]
        }
      ]
    },
    {
      "cell_type": "code",
      "source": [],
      "metadata": {
        "id": "2kTboaOG3O_5"
      },
      "execution_count": null,
      "outputs": []
    },
    {
      "cell_type": "code",
      "source": [
        "!streamlit run app.py & npx localtunnel --port 8501"
      ],
      "metadata": {
        "colab": {
          "base_uri": "https://localhost:8080/"
        },
        "id": "VslBYOS4vPn-",
        "outputId": "1f70a38e-9bdc-4125-c900-f2f0c6763bd5"
      },
      "execution_count": 16,
      "outputs": [
        {
          "output_type": "stream",
          "name": "stdout",
          "text": [
            "\u001b[K\u001b[?25hnpx: installed 22 in 2.556s\n",
            "\n",
            "Collecting usage statistics. To deactivate, set browser.gatherUsageStats to False.\n",
            "\u001b[0m\n",
            "\u001b[0m\n",
            "\u001b[34m\u001b[1m  You can now view your Streamlit app in your browser.\u001b[0m\n",
            "\u001b[0m\n",
            "\u001b[34m  Network URL: \u001b[0m\u001b[1mhttp://172.28.0.12:8501\u001b[0m\n",
            "\u001b[34m  External URL: \u001b[0m\u001b[1mhttp://35.221.50.128:8501\u001b[0m\n",
            "\u001b[0m\n",
            "your url is: https://wild-ties-hang-35-221-50-128.loca.lt\n",
            "\u001b[34m  Stopping...\u001b[0m\n",
            "^C\n"
          ]
        }
      ]
    },
    {
      "cell_type": "code",
      "source": [
        "!pip install pyngrok\n",
        "from pyngrok import ngrok"
      ],
      "metadata": {
        "colab": {
          "base_uri": "https://localhost:8080/"
        },
        "id": "6D7lsgZEvCBz",
        "outputId": "b0d70f00-404d-47ab-f449-4055ed55fd9d"
      },
      "execution_count": 13,
      "outputs": [
        {
          "output_type": "stream",
          "name": "stdout",
          "text": [
            "Looking in indexes: https://pypi.org/simple, https://us-python.pkg.dev/colab-wheels/public/simple/\n",
            "Requirement already satisfied: pyngrok in /usr/local/lib/python3.8/dist-packages (5.2.1)\n",
            "Requirement already satisfied: PyYAML in /usr/local/lib/python3.8/dist-packages (from pyngrok) (6.0)\n"
          ]
        }
      ]
    },
    {
      "cell_type": "code",
      "source": [
        "!nohub streamlit run app.py &"
      ],
      "metadata": {
        "colab": {
          "base_uri": "https://localhost:8080/"
        },
        "id": "WR9xP28GvEE1",
        "outputId": "54edd36f-55e6-46d6-ab8e-63daf7f62ac1"
      },
      "execution_count": 9,
      "outputs": [
        {
          "output_type": "stream",
          "name": "stdout",
          "text": [
            "/bin/bash: nohub: command not found\n"
          ]
        }
      ]
    },
    {
      "cell_type": "code",
      "source": [
        "!streamlit run app.py &>/dev/null&"
      ],
      "metadata": {
        "id": "vCS-D111vHqV"
      },
      "execution_count": 10,
      "outputs": []
    },
    {
      "cell_type": "code",
      "source": [
        "!ngrok authtoken 2HyQaq011oRwNjSbdm1xI1TWAXh_5CwrTGKbM9avvivrkT4m7"
      ],
      "metadata": {
        "colab": {
          "base_uri": "https://localhost:8080/"
        },
        "id": "AfoGh0c_vKnD",
        "outputId": "7e66d2ae-1119-4c1b-d273-25ab16705b9d"
      },
      "execution_count": 7,
      "outputs": [
        {
          "output_type": "stream",
          "name": "stdout",
          "text": [
            "Authtoken saved to configuration file: /root/.ngrok2/ngrok.yml\n"
          ]
        }
      ]
    },
    {
      "cell_type": "code",
      "source": [
        "# Setup a tunnel to the streamlit port 8501\n",
        "public_url = ngrok.connect(port='8501')\n",
        "public_url"
      ],
      "metadata": {
        "colab": {
          "base_uri": "https://localhost:8080/"
        },
        "id": "uOQjAa4lvMtZ",
        "outputId": "4dccef8f-3499-48bd-bbb7-7f35c7846e03"
      },
      "execution_count": 11,
      "outputs": [
        {
          "output_type": "stream",
          "name": "stderr",
          "text": [
            "INFO:pyngrok.ngrok:Opening tunnel named: http-80-f951d949-7bb9-4697-a9c4-7ebd3249888a\n",
            "2022-12-06 00:28:21.467 INFO    pyngrok.ngrok: Opening tunnel named: http-80-f951d949-7bb9-4697-a9c4-7ebd3249888a\n",
            "INFO:pyngrok.process.ngrok:t=2022-12-06T00:28:21+0000 lvl=info msg=\"no configuration paths supplied\"\n",
            "2022-12-06 00:28:21.505 INFO    pyngrok.process.ngrok: t=2022-12-06T00:28:21+0000 lvl=info msg=\"no configuration paths supplied\"\n",
            "INFO:pyngrok.process.ngrok:t=2022-12-06T00:28:21+0000 lvl=info msg=\"using configuration at default config path\" path=/root/.ngrok2/ngrok.yml\n",
            "2022-12-06 00:28:21.519 INFO    pyngrok.process.ngrok: t=2022-12-06T00:28:21+0000 lvl=info msg=\"using configuration at default config path\" path=/root/.ngrok2/ngrok.yml\n",
            "INFO:pyngrok.process.ngrok:t=2022-12-06T00:28:21+0000 lvl=info msg=\"open config file\" path=/root/.ngrok2/ngrok.yml err=nil\n",
            "2022-12-06 00:28:21.526 INFO    pyngrok.process.ngrok: t=2022-12-06T00:28:21+0000 lvl=info msg=\"open config file\" path=/root/.ngrok2/ngrok.yml err=nil\n",
            "INFO:pyngrok.process.ngrok:t=2022-12-06T00:28:21+0000 lvl=info msg=\"starting web service\" obj=web addr=127.0.0.1:4040\n",
            "2022-12-06 00:28:21.530 INFO    pyngrok.process.ngrok: t=2022-12-06T00:28:21+0000 lvl=info msg=\"starting web service\" obj=web addr=127.0.0.1:4040\n",
            "INFO:pyngrok.process.ngrok:t=2022-12-06T00:28:21+0000 lvl=info msg=\"tunnel session started\" obj=tunnels.session\n",
            "2022-12-06 00:28:21.607 INFO    pyngrok.process.ngrok: t=2022-12-06T00:28:21+0000 lvl=info msg=\"tunnel session started\" obj=tunnels.session\n",
            "INFO:pyngrok.process.ngrok:t=2022-12-06T00:28:21+0000 lvl=info msg=\"client session established\" obj=csess id=372a4441b914\n",
            "2022-12-06 00:28:21.617 INFO    pyngrok.process.ngrok: t=2022-12-06T00:28:21+0000 lvl=info msg=\"client session established\" obj=csess id=372a4441b914\n",
            "INFO:pyngrok.process.ngrok:t=2022-12-06T00:28:21+0000 lvl=info msg=start pg=/api/tunnels id=51304692c4ca347d\n",
            "2022-12-06 00:28:21.630 INFO    pyngrok.process.ngrok: t=2022-12-06T00:28:21+0000 lvl=info msg=start pg=/api/tunnels id=51304692c4ca347d\n",
            "INFO:pyngrok.process.ngrok:t=2022-12-06T00:28:21+0000 lvl=info msg=end pg=/api/tunnels id=51304692c4ca347d status=200 dur=417.419µs\n",
            "2022-12-06 00:28:21.636 INFO    pyngrok.process.ngrok: t=2022-12-06T00:28:21+0000 lvl=info msg=end pg=/api/tunnels id=51304692c4ca347d status=200 dur=417.419µs\n",
            "INFO:pyngrok.process.ngrok:t=2022-12-06T00:28:21+0000 lvl=info msg=start pg=/api/tunnels id=ca415c1ff7fe7f6d\n",
            "2022-12-06 00:28:21.640 INFO    pyngrok.process.ngrok: t=2022-12-06T00:28:21+0000 lvl=info msg=start pg=/api/tunnels id=ca415c1ff7fe7f6d\n",
            "INFO:pyngrok.process.ngrok:t=2022-12-06T00:28:21+0000 lvl=info msg=end pg=/api/tunnels id=ca415c1ff7fe7f6d status=200 dur=126.468µs\n",
            "2022-12-06 00:28:21.643 INFO    pyngrok.process.ngrok: t=2022-12-06T00:28:21+0000 lvl=info msg=end pg=/api/tunnels id=ca415c1ff7fe7f6d status=200 dur=126.468µs\n",
            "INFO:pyngrok.process.ngrok:t=2022-12-06T00:28:21+0000 lvl=info msg=start pg=/api/tunnels id=77d1f0ea34baa821\n",
            "2022-12-06 00:28:21.647 INFO    pyngrok.process.ngrok: t=2022-12-06T00:28:21+0000 lvl=info msg=start pg=/api/tunnels id=77d1f0ea34baa821\n",
            "INFO:pyngrok.process.ngrok:t=2022-12-06T00:28:21+0000 lvl=info msg=\"started tunnel\" obj=tunnels name=\"http-80-f951d949-7bb9-4697-a9c4-7ebd3249888a (http)\" addr=http://localhost:80 url=http://1b03-35-221-50-128.ngrok.io\n",
            "2022-12-06 00:28:21.681 INFO    pyngrok.process.ngrok: t=2022-12-06T00:28:21+0000 lvl=info msg=\"started tunnel\" obj=tunnels name=\"http-80-f951d949-7bb9-4697-a9c4-7ebd3249888a (http)\" addr=http://localhost:80 url=http://1b03-35-221-50-128.ngrok.io\n"
          ]
        },
        {
          "output_type": "execute_result",
          "data": {
            "text/plain": [
              "<NgrokTunnel: \"http://1b03-35-221-50-128.ngrok.io\" -> \"http://localhost:80\">"
            ]
          },
          "metadata": {},
          "execution_count": 11
        },
        {
          "output_type": "stream",
          "name": "stderr",
          "text": [
            "INFO:pyngrok.process.ngrok:t=2022-12-06T00:28:21+0000 lvl=info msg=\"started tunnel\" obj=tunnels name=http-80-f951d949-7bb9-4697-a9c4-7ebd3249888a addr=http://localhost:80 url=https://1b03-35-221-50-128.ngrok.io\n",
            "2022-12-06 00:28:21.696 INFO    pyngrok.process.ngrok: t=2022-12-06T00:28:21+0000 lvl=info msg=\"started tunnel\" obj=tunnels name=http-80-f951d949-7bb9-4697-a9c4-7ebd3249888a addr=http://localhost:80 url=https://1b03-35-221-50-128.ngrok.io\n",
            "INFO:pyngrok.process.ngrok:t=2022-12-06T00:28:21+0000 lvl=info msg=end pg=/api/tunnels id=77d1f0ea34baa821 status=201 dur=51.537838ms\n",
            "2022-12-06 00:28:21.712 INFO    pyngrok.process.ngrok: t=2022-12-06T00:28:21+0000 lvl=info msg=end pg=/api/tunnels id=77d1f0ea34baa821 status=201 dur=51.537838ms\n",
            "INFO:pyngrok.process.ngrok:t=2022-12-06T00:28:21+0000 lvl=info msg=start pg=\"/api/tunnels/http-80-f951d949-7bb9-4697-a9c4-7ebd3249888a (http)\" id=913b7df41349c4f6\n",
            "2022-12-06 00:28:21.721 INFO    pyngrok.process.ngrok: t=2022-12-06T00:28:21+0000 lvl=info msg=start pg=\"/api/tunnels/http-80-f951d949-7bb9-4697-a9c4-7ebd3249888a (http)\" id=913b7df41349c4f6\n",
            "INFO:pyngrok.process.ngrok:t=2022-12-06T00:28:21+0000 lvl=info msg=end pg=\"/api/tunnels/http-80-f951d949-7bb9-4697-a9c4-7ebd3249888a (http)\" id=913b7df41349c4f6 status=200 dur=154.971µs\n",
            "2022-12-06 00:28:21.724 INFO    pyngrok.process.ngrok: t=2022-12-06T00:28:21+0000 lvl=info msg=end pg=\"/api/tunnels/http-80-f951d949-7bb9-4697-a9c4-7ebd3249888a (http)\" id=913b7df41349c4f6 status=200 dur=154.971µs\n"
          ]
        }
      ]
    },
    {
      "cell_type": "code",
      "source": [
        "!pgrep streamlit"
      ],
      "metadata": {
        "id": "xGd7Bu23vR4t",
        "colab": {
          "base_uri": "https://localhost:8080/"
        },
        "outputId": "ca21770b-3bca-4b70-f70e-5e3daae313bd"
      },
      "execution_count": 12,
      "outputs": [
        {
          "output_type": "stream",
          "name": "stdout",
          "text": [
            "330\n"
          ]
        }
      ]
    },
    {
      "cell_type": "code",
      "source": [
        "kill 445"
      ],
      "metadata": {
        "id": "Mv737hnNwngi"
      },
      "execution_count": null,
      "outputs": []
    }
  ]
}