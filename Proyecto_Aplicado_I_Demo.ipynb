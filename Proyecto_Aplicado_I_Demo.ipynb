{
  "cells": [
    {
      "cell_type": "markdown",
      "metadata": {
        "id": "view-in-github",
        "colab_type": "text"
      },
      "source": [
        "<a href=\"https://colab.research.google.com/github/grojasc/Proyecto_aplicado_I_2022/blob/main/Proyecto_Aplicado_I_Demo.ipynb\" target=\"_parent\"><img src=\"https://colab.research.google.com/assets/colab-badge.svg\" alt=\"Open In Colab\"/></a>"
      ]
    },
    {
      "cell_type": "markdown",
      "metadata": {
        "id": "lmO1iSdSuXST"
      },
      "source": [
        "## Instalar Librerías\n",
        "---\n"
      ]
    },
    {
      "cell_type": "code",
      "execution_count": null,
      "metadata": {
        "colab": {
          "base_uri": "https://localhost:8080/"
        },
        "id": "ViaWzHy72DHk",
        "outputId": "9a74f485-51cc-4ce5-c392-012f509d0f13"
      },
      "outputs": [
        {
          "name": "stdout",
          "output_type": "stream",
          "text": [
            "Looking in indexes: https://pypi.org/simple, https://us-python.pkg.dev/colab-wheels/public/simple/\n",
            "Requirement already satisfied: gdown in /usr/local/lib/python3.8/dist-packages (4.4.0)\n",
            "Requirement already satisfied: requests[socks] in /usr/local/lib/python3.8/dist-packages (from gdown) (2.23.0)\n",
            "Requirement already satisfied: six in /usr/local/lib/python3.8/dist-packages (from gdown) (1.15.0)\n",
            "Requirement already satisfied: beautifulsoup4 in /usr/local/lib/python3.8/dist-packages (from gdown) (4.6.3)\n",
            "Requirement already satisfied: tqdm in /usr/local/lib/python3.8/dist-packages (from gdown) (4.64.1)\n",
            "Requirement already satisfied: filelock in /usr/local/lib/python3.8/dist-packages (from gdown) (3.8.0)\n",
            "Requirement already satisfied: urllib3!=1.25.0,!=1.25.1,<1.26,>=1.21.1 in /usr/local/lib/python3.8/dist-packages (from requests[socks]->gdown) (1.24.3)\n",
            "Requirement already satisfied: chardet<4,>=3.0.2 in /usr/local/lib/python3.8/dist-packages (from requests[socks]->gdown) (3.0.4)\n",
            "Requirement already satisfied: idna<3,>=2.5 in /usr/local/lib/python3.8/dist-packages (from requests[socks]->gdown) (2.10)\n",
            "Requirement already satisfied: certifi>=2017.4.17 in /usr/local/lib/python3.8/dist-packages (from requests[socks]->gdown) (2022.9.24)\n",
            "Requirement already satisfied: PySocks!=1.5.7,>=1.5.6 in /usr/local/lib/python3.8/dist-packages (from requests[socks]->gdown) (1.7.1)\n"
          ]
        }
      ],
      "source": [
        "#!pip install streamlit-authenticator\n",
        "#! pip install gdown"
      ]
    },
    {
      "cell_type": "code",
      "execution_count": null,
      "metadata": {
        "colab": {
          "base_uri": "https://localhost:8080/"
        },
        "id": "Bixj9FratiB7",
        "outputId": "cffc3824-bfdc-4b98-c106-bdc0cb60de63"
      },
      "outputs": [
        {
          "name": "stdout",
          "output_type": "stream",
          "text": [
            "Looking in indexes: https://pypi.org/simple, https://us-python.pkg.dev/colab-wheels/public/simple/\n",
            "Collecting streamlit==1.14.1\n",
            "  Downloading streamlit-1.14.1-py2.py3-none-any.whl (9.2 MB)\n",
            "\u001b[K     |████████████████████████████████| 9.2 MB 17.5 MB/s \n",
            "\u001b[?25hCollecting blinker>=1.0.0\n",
            "  Downloading blinker-1.5-py2.py3-none-any.whl (12 kB)\n",
            "Requirement already satisfied: importlib-metadata>=1.4 in /usr/local/lib/python3.8/dist-packages (from streamlit==1.14.1) (4.13.0)\n",
            "Requirement already satisfied: pillow>=6.2.0 in /usr/local/lib/python3.8/dist-packages (from streamlit==1.14.1) (7.1.2)\n",
            "Requirement already satisfied: tzlocal>=1.1 in /usr/local/lib/python3.8/dist-packages (from streamlit==1.14.1) (1.5.1)\n",
            "Requirement already satisfied: packaging>=14.1 in /usr/local/lib/python3.8/dist-packages (from streamlit==1.14.1) (21.3)\n",
            "Collecting pympler>=0.9\n",
            "  Downloading Pympler-1.0.1-py3-none-any.whl (164 kB)\n",
            "\u001b[K     |████████████████████████████████| 164 kB 42.7 MB/s \n",
            "\u001b[?25hRequirement already satisfied: typing-extensions>=3.10.0.0 in /usr/local/lib/python3.8/dist-packages (from streamlit==1.14.1) (4.4.0)\n",
            "Requirement already satisfied: requests>=2.4 in /usr/local/lib/python3.8/dist-packages (from streamlit==1.14.1) (2.23.0)\n",
            "Collecting semver\n",
            "  Downloading semver-2.13.0-py2.py3-none-any.whl (12 kB)\n",
            "Requirement already satisfied: click>=7.0 in /usr/local/lib/python3.8/dist-packages (from streamlit==1.14.1) (7.1.2)\n",
            "Collecting pydeck>=0.1.dev5\n",
            "  Downloading pydeck-0.8.0-py2.py3-none-any.whl (4.7 MB)\n",
            "\u001b[K     |████████████████████████████████| 4.7 MB 66.0 MB/s \n",
            "\u001b[?25hRequirement already satisfied: pyarrow>=4.0 in /usr/local/lib/python3.8/dist-packages (from streamlit==1.14.1) (9.0.0)\n",
            "Requirement already satisfied: python-dateutil in /usr/local/lib/python3.8/dist-packages (from streamlit==1.14.1) (2.8.2)\n",
            "Collecting gitpython!=3.1.19\n",
            "  Downloading GitPython-3.1.29-py3-none-any.whl (182 kB)\n",
            "\u001b[K     |████████████████████████████████| 182 kB 23.5 MB/s \n",
            "\u001b[?25hCollecting rich>=10.11.0\n",
            "  Downloading rich-12.6.0-py3-none-any.whl (237 kB)\n",
            "\u001b[K     |████████████████████████████████| 237 kB 66.7 MB/s \n",
            "\u001b[?25hRequirement already satisfied: pandas>=0.21.0 in /usr/local/lib/python3.8/dist-packages (from streamlit==1.14.1) (1.3.5)\n",
            "Requirement already satisfied: tornado>=5.0 in /usr/local/lib/python3.8/dist-packages (from streamlit==1.14.1) (6.0.4)\n",
            "Requirement already satisfied: numpy in /usr/local/lib/python3.8/dist-packages (from streamlit==1.14.1) (1.21.6)\n",
            "Requirement already satisfied: toml in /usr/local/lib/python3.8/dist-packages (from streamlit==1.14.1) (0.10.2)\n",
            "Requirement already satisfied: protobuf<4,>=3.12 in /usr/local/lib/python3.8/dist-packages (from streamlit==1.14.1) (3.19.6)\n",
            "Requirement already satisfied: cachetools>=4.0 in /usr/local/lib/python3.8/dist-packages (from streamlit==1.14.1) (5.2.0)\n",
            "Collecting validators>=0.2\n",
            "  Downloading validators-0.20.0.tar.gz (30 kB)\n",
            "Collecting watchdog\n",
            "  Downloading watchdog-2.2.0-py3-none-manylinux2014_x86_64.whl (78 kB)\n",
            "\u001b[K     |████████████████████████████████| 78 kB 3.2 MB/s \n",
            "\u001b[?25hRequirement already satisfied: altair>=3.2.0 in /usr/local/lib/python3.8/dist-packages (from streamlit==1.14.1) (4.2.0)\n",
            "Requirement already satisfied: entrypoints in /usr/local/lib/python3.8/dist-packages (from altair>=3.2.0->streamlit==1.14.1) (0.4)\n",
            "Requirement already satisfied: jinja2 in /usr/local/lib/python3.8/dist-packages (from altair>=3.2.0->streamlit==1.14.1) (2.11.3)\n",
            "Requirement already satisfied: toolz in /usr/local/lib/python3.8/dist-packages (from altair>=3.2.0->streamlit==1.14.1) (0.12.0)\n",
            "Requirement already satisfied: jsonschema>=3.0 in /usr/local/lib/python3.8/dist-packages (from altair>=3.2.0->streamlit==1.14.1) (4.3.3)\n",
            "Collecting gitdb<5,>=4.0.1\n",
            "  Downloading gitdb-4.0.10-py3-none-any.whl (62 kB)\n",
            "\u001b[K     |████████████████████████████████| 62 kB 869 kB/s \n",
            "\u001b[?25hCollecting smmap<6,>=3.0.1\n",
            "  Downloading smmap-5.0.0-py3-none-any.whl (24 kB)\n",
            "Requirement already satisfied: zipp>=0.5 in /usr/local/lib/python3.8/dist-packages (from importlib-metadata>=1.4->streamlit==1.14.1) (3.11.0)\n",
            "Requirement already satisfied: attrs>=17.4.0 in /usr/local/lib/python3.8/dist-packages (from jsonschema>=3.0->altair>=3.2.0->streamlit==1.14.1) (22.1.0)\n",
            "Requirement already satisfied: pyrsistent!=0.17.0,!=0.17.1,!=0.17.2,>=0.14.0 in /usr/local/lib/python3.8/dist-packages (from jsonschema>=3.0->altair>=3.2.0->streamlit==1.14.1) (0.19.2)\n",
            "Requirement already satisfied: importlib-resources>=1.4.0 in /usr/local/lib/python3.8/dist-packages (from jsonschema>=3.0->altair>=3.2.0->streamlit==1.14.1) (5.10.0)\n",
            "Requirement already satisfied: pyparsing!=3.0.5,>=2.0.2 in /usr/local/lib/python3.8/dist-packages (from packaging>=14.1->streamlit==1.14.1) (3.0.9)\n",
            "Requirement already satisfied: pytz>=2017.3 in /usr/local/lib/python3.8/dist-packages (from pandas>=0.21.0->streamlit==1.14.1) (2022.6)\n",
            "Requirement already satisfied: MarkupSafe>=0.23 in /usr/local/lib/python3.8/dist-packages (from jinja2->altair>=3.2.0->streamlit==1.14.1) (2.0.1)\n",
            "Requirement already satisfied: six>=1.5 in /usr/local/lib/python3.8/dist-packages (from python-dateutil->streamlit==1.14.1) (1.15.0)\n",
            "Requirement already satisfied: urllib3!=1.25.0,!=1.25.1,<1.26,>=1.21.1 in /usr/local/lib/python3.8/dist-packages (from requests>=2.4->streamlit==1.14.1) (1.24.3)\n",
            "Requirement already satisfied: chardet<4,>=3.0.2 in /usr/local/lib/python3.8/dist-packages (from requests>=2.4->streamlit==1.14.1) (3.0.4)\n",
            "Requirement already satisfied: certifi>=2017.4.17 in /usr/local/lib/python3.8/dist-packages (from requests>=2.4->streamlit==1.14.1) (2022.9.24)\n",
            "Requirement already satisfied: idna<3,>=2.5 in /usr/local/lib/python3.8/dist-packages (from requests>=2.4->streamlit==1.14.1) (2.10)\n",
            "Collecting commonmark<0.10.0,>=0.9.0\n",
            "  Downloading commonmark-0.9.1-py2.py3-none-any.whl (51 kB)\n",
            "\u001b[K     |████████████████████████████████| 51 kB 3.0 MB/s \n",
            "\u001b[?25hRequirement already satisfied: pygments<3.0.0,>=2.6.0 in /usr/local/lib/python3.8/dist-packages (from rich>=10.11.0->streamlit==1.14.1) (2.6.1)\n",
            "Requirement already satisfied: decorator>=3.4.0 in /usr/local/lib/python3.8/dist-packages (from validators>=0.2->streamlit==1.14.1) (4.4.2)\n",
            "Building wheels for collected packages: validators\n",
            "  Building wheel for validators (setup.py) ... \u001b[?25l\u001b[?25hdone\n",
            "  Created wheel for validators: filename=validators-0.20.0-py3-none-any.whl size=19581 sha256=4daa17364a4e6515fddcb0de217d1ab4a5d3a815dfa9052fb9f5b9086ffe3625\n",
            "  Stored in directory: /root/.cache/pip/wheels/19/09/72/3eb74d236bb48bd0f3c6c3c83e4e0c5bbfcbcad7c6c3539db8\n",
            "Successfully built validators\n",
            "Installing collected packages: smmap, gitdb, commonmark, watchdog, validators, semver, rich, pympler, pydeck, gitpython, blinker, streamlit\n",
            "Successfully installed blinker-1.5 commonmark-0.9.1 gitdb-4.0.10 gitpython-3.1.29 pydeck-0.8.0 pympler-1.0.1 rich-12.6.0 semver-2.13.0 smmap-5.0.0 streamlit-1.14.1 validators-0.20.0 watchdog-2.2.0\n",
            "Looking in indexes: https://pypi.org/simple, https://us-python.pkg.dev/colab-wheels/public/simple/\n",
            "Collecting path\n",
            "  Downloading path-16.6.0-py3-none-any.whl (26 kB)\n",
            "Installing collected packages: path\n",
            "Successfully installed path-16.6.0\n",
            "Looking in indexes: https://pypi.org/simple, https://us-python.pkg.dev/colab-wheels/public/simple/\n",
            "Collecting pyngrok\n",
            "  Downloading pyngrok-5.2.1.tar.gz (761 kB)\n",
            "\u001b[K     |████████████████████████████████| 761 kB 31.5 MB/s \n",
            "\u001b[?25hRequirement already satisfied: PyYAML in /usr/local/lib/python3.8/dist-packages (from pyngrok) (6.0)\n",
            "Building wheels for collected packages: pyngrok\n",
            "  Building wheel for pyngrok (setup.py) ... \u001b[?25l\u001b[?25hdone\n",
            "  Created wheel for pyngrok: filename=pyngrok-5.2.1-py3-none-any.whl size=19792 sha256=d449f6aac0b195c623f9526a6367530d8aeaf9654740913d142ac1307b7be401\n",
            "  Stored in directory: /root/.cache/pip/wheels/5d/f2/70/526da675d32f17577ec47ac4c663084efe39d47c826b6c3bb1\n",
            "Successfully built pyngrok\n",
            "Installing collected packages: pyngrok\n",
            "Successfully installed pyngrok-5.2.1\n"
          ]
        }
      ],
      "source": [
        "!pip install streamlit==1.14.1\n",
        "!pip install path\n",
        "!pip install pyngrok\n"
      ]
    },
    {
      "cell_type": "code",
      "execution_count": null,
      "metadata": {
        "id": "vhJUfaUAOTH0"
      },
      "outputs": [],
      "source": [
        "from pyngrok import ngrok"
      ]
    },
    {
      "cell_type": "code",
      "execution_count": null,
      "metadata": {
        "colab": {
          "base_uri": "https://localhost:8080/"
        },
        "id": "yZVztdEHLWm0",
        "outputId": "067840ae-1056-4ac6-e994-63725c725d5b"
      },
      "outputs": [
        {
          "name": "stdout",
          "output_type": "stream",
          "text": [
            "Mounted at /content/drive\n"
          ]
        }
      ],
      "source": [
        "from google.colab import drive\n",
        "drive.mount('/content/drive')"
      ]
    },
    {
      "cell_type": "markdown",
      "metadata": {
        "id": "kbqdKV5Uu7ZS"
      },
      "source": [
        "## Crear App con Streamlit\n",
        "---"
      ]
    },
    {
      "cell_type": "code",
      "execution_count": null,
      "metadata": {
        "id": "Q5H8Kx7wBijP"
      },
      "outputs": [],
      "source": [
        "images_dir = r'G:\\Mi unidad\\MIA 2022\\Proyecto aplicado I\\PAI\\images_rescaled\\images_rescaled'\n",
        "articulos = pd.read_csv(\"/content/drive/MyDrive/MIA 2022/PAI/articles.csv\",index_col=0)\n",
        "clientes = pd.read_csv(\"/content/drive/MyDrive/MIA 2022/PAI/customers.csv\",index_col=0)\n",
        "transacciones = pd.read_csv(\"/content/drive/MyDrive/MIA 2022/PAI/transactions_train.csv\",index_col=0)\n",
        "usuarios_test=pd.read_csv(\"/content/drive/MyDrive/MIA 2022/PAI/users_test.csv\",index_col=0)"
      ]
    },
    {
      "cell_type": "code",
      "execution_count": null,
      "metadata": {
        "colab": {
          "base_uri": "https://localhost:8080/"
        },
        "id": "kKorxkRRY9eB",
        "outputId": "90862b79-4bfe-4bad-de22-dc541ff0f282"
      },
      "outputs": [
        {
          "name": "stderr",
          "output_type": "stream",
          "text": [
            "/usr/local/lib/python3.8/dist-packages/torchvision/models/_utils.py:208: UserWarning: The parameter 'pretrained' is deprecated since 0.13 and may be removed in the future, please use 'weights' instead.\n",
            "  warnings.warn(\n",
            "/usr/local/lib/python3.8/dist-packages/torchvision/models/_utils.py:223: UserWarning: Arguments other than a weight enum or `None` for 'weights' are deprecated since 0.13 and may be removed in the future. The current behavior is equivalent to passing `weights=VGG16_Weights.IMAGENET1K_V1`. You can also use `weights=VGG16_Weights.DEFAULT` to get the most up-to-date weights.\n",
            "  warnings.warn(msg)\n"
          ]
        }
      ],
      "source": [
        "import streamlit as st\n",
        "import io\n",
        "import numpy as np\n",
        "import os\n",
        "import json\n",
        "from torchvision import models, transforms\n",
        "model = models.vgg16(pretrained=True)\n",
        "import cv2\n",
        "import heapq\n",
        "# from google.colab.patches import cv2_imshow\n",
        "import torch\n",
        "from torch import optim, nn\n",
        "from numpy.ma.core import argmin\n",
        "from sklearn.cluster import KMeans\n",
        "from sklearn import metrics\n",
        "from sklearn.metrics import pairwise_distances\n",
        "import matplotlib.pyplot as plt\n",
        "#from keras.preprocessing import image\n",
        "from PIL import ImageFile\n",
        "from PIL import Image\n",
        "ImageFile.LOAD_TRUNCATED_IMAGES = True\n",
        "#from yellowbrick.cluster import KElbowVisualizer\n",
        "\n",
        "\n"
      ]
    },
    {
      "cell_type": "code",
      "execution_count": null,
      "metadata": {
        "id": "6LQyV5XiZOlw"
      },
      "outputs": [],
      "source": [
        "\n",
        "\n",
        "vgg19_featmat = np.load('/content/drive/MyDrive/Proyecto AS y ANS/Proyecto Aplicado I/features_numpy.npy', allow_pickle=True)\n",
        "\n",
        "with open('/content/drive/MyDrive/Proyecto AS y ANS/Proyecto Aplicado I/lista_images.json') as f:\n",
        "    index2id = json.load(f)"
      ]
    },
    {
      "cell_type": "code",
      "execution_count": null,
      "metadata": {
        "colab": {
          "base_uri": "https://localhost:8080/",
          "height": 73
        },
        "id": "f7m8eLcKksU_",
        "outputId": "69446feb-5863-4f0e-809b-a3983b22d3cf"
      },
      "outputs": [
        {
          "name": "stdout",
          "output_type": "stream",
          "text": [
            "['0007b8704284d09bac3c2590f187e0458a17e5f38a64ad52ec7bdc4a96bea703', '706016001', '610776002', '706016002', '399223001', '562245046', '706016003', '706016006', '355569001', '706016015', '158340001'] 0007b8704284d09bac3c2590f187e0458a17e5f38a64ad52ec7bdc4a96bea703\n"
          ]
        },
        {
          "data": {
            "application/vnd.google.colaboratory.intrinsic+json": {
              "type": "string"
            },
            "text/plain": [
              "'\\n\\nif username == customer_id[0]:\\n\\n'"
            ]
          },
          "execution_count": 22,
          "metadata": {},
          "output_type": "execute_result"
        }
      ],
      "source": [
        "import pandas as pd\n",
        "def load_customers(persist = True):\n",
        "  df = pd.read_csv('/content/recos.csv',delimiter = ';')\n",
        "  return df\n",
        "username = '0007b8704284d09bac3c2590f187e0458a17e5f38a64ad52ec7bdc4a96bea703'\n",
        "df = load_customers()\n",
        "customer_id = df[(df.customer_id == username)]\n",
        "customer_id = customer_id.values.tolist()\n",
        "customer_id = customer_id[0]\n",
        "customer_id = [str(item) for item in customer_id]\n",
        "print(customer_id,customer_id[0])\n",
        "\n",
        "\"\"\"\n",
        "\n",
        "if username == customer_id[0]:\n",
        "\n",
        "\"\"\""
      ]
    },
    {
      "cell_type": "code",
      "execution_count": null,
      "metadata": {
        "colab": {
          "base_uri": "https://localhost:8080/"
        },
        "id": "ywV0uUrblZxA",
        "outputId": "2b4fb417-e605-4a92-e50e-7524848202d2"
      },
      "outputs": [
        {
          "data": {
            "text/plain": [
              "[\"['0007b8704284d09bac3c2590f187e0458a17e5f38a64ad52ec7bdc4a96bea703', 706016001, 610776002, 706016002, 399223001, 562245046, 706016003, 706016006, 355569001, 706016015, 158340001]\"]"
            ]
          },
          "execution_count": 18,
          "metadata": {},
          "output_type": "execute_result"
        }
      ],
      "source": [
        "customer_id"
      ]
    },
    {
      "cell_type": "markdown",
      "metadata": {
        "id": "DzwL2pJR_O85"
      },
      "source": [
        "### APP sin recomendadores para ensamble\n",
        "---"
      ]
    },
    {
      "cell_type": "code",
      "execution_count": null,
      "metadata": {
        "id": "YHLizcstkrrI"
      },
      "outputs": [],
      "source": []
    },
    {
      "cell_type": "code",
      "execution_count": null,
      "metadata": {
        "id": "o0JuUYyGunSs"
      },
      "outputs": [],
      "source": [
        "%%writefile app.py\n",
        "import streamlit as st\n",
        "import pandas as pd\n",
        "import io\n",
        "import numpy as np\n",
        "import pickle\n",
        "import os\n",
        "import json\n",
        "from torchvision import models, transforms\n",
        "model = models.vgg16(pretrained=True)\n",
        "import cv2\n",
        "import heapq\n",
        "# from google.colab.patches import cv2_imshow\n",
        "import torch\n",
        "from torch import optim, nn\n",
        "from numpy.ma.core import argmin\n",
        "from sklearn.cluster import KMeans\n",
        "from sklearn import metrics\n",
        "from sklearn.metrics import pairwise_distances\n",
        "import matplotlib.pyplot as plt\n",
        "#from keras.preprocessing import image\n",
        "from PIL import ImageFile\n",
        "from PIL import Image\n",
        "ImageFile.LOAD_TRUNCATED_IMAGES = True\n",
        "\n",
        "\n",
        "\n",
        "def main():\n",
        "\n",
        "  \n",
        "\n",
        "\n",
        "\n",
        "\n",
        "\n",
        "  @st.cache\n",
        "  def load_vector(persist = True):\n",
        "    vgg19_featmat = np.load('/content/drive/MyDrive/Proyecto AS y ANS/Proyecto Aplicado I/features_numpy.npy', allow_pickle=True)\n",
        "    return vgg19_featmat\n",
        "\n",
        "  with open('/content/drive/MyDrive/Proyecto AS y ANS/Proyecto Aplicado I/lista_images.json') as f:\n",
        "    index2id = json.load(f)\n",
        "\n",
        "\n",
        "  @st.cache\n",
        "  def load_customers(persist = True):\n",
        "    df = pd.read_csv('/content/recos.csv',delimiter = ';')\n",
        "    return df\n",
        "\n",
        "  def get_user_rec(username):\n",
        "    df = load_customers()\n",
        "    customer_id = df[(df.customer_id == \"'\"+username+\"'\")]\n",
        "    customer_id = customer_id.values.tolist()\n",
        "    customer_id = customer_id[0]\n",
        "    customer_id = [str(item) for item in customer_id]\n",
        "    batch_images = customer_id[1:11]\n",
        "    return batch_images\n",
        "\n",
        "  def load_image():\n",
        "    uploaded_file = st.file_uploader(label='Pick an image to test')\n",
        "    if uploaded_file is not None:\n",
        "        image_data = uploaded_file.getvalue()\n",
        "        st.image(image_data)\n",
        "        return Image.open(io.BytesIO(image_data))\n",
        "    else:\n",
        "        return None\n",
        "\n",
        "  class FeatureExtractor(nn.Module):\n",
        "    def __init__(self, model):\n",
        "        super(FeatureExtractor, self).__init__()\n",
        "            # Extract VGG-16 Feature Layers\n",
        "        self.features = list(model.features)\n",
        "        self.features = nn.Sequential(*self.features)\n",
        "            # Extract VGG-16 Average Pooling Layer\n",
        "        self.pooling = model.avgpool\n",
        "            # Convert the image into one-dimensional vector\n",
        "        self.flatten = nn.Flatten()\n",
        "            # Extract the first part of fully-connected layer from VGG16\n",
        "        self.fc = model.classifier[0]\n",
        "  \n",
        "    def forward(self, x):\n",
        "        # It will take the input 'x' until it returns the feature vector called 'out'\n",
        "        out = self.features(x)\n",
        "        out = self.pooling(out)\n",
        "        out = self.flatten(out)\n",
        "        out = self.fc(out) \n",
        "        return out \n",
        "\n",
        "  @st.cache \n",
        "  def load_model():\n",
        "  # Initialize the model\n",
        "    model = models.vgg16(pretrained=True)\n",
        "    new_model = FeatureExtractor(model)\n",
        "    device = torch.device('cuda:0' if torch.cuda.is_available() else \"cpu\")\n",
        "\n",
        "    # Change the device to GPU\n",
        "    new_model = new_model.to(device)\n",
        "    \n",
        "    return new_model\n",
        "\n",
        "  @st.cache \n",
        "  def preprocess_image(model, image):\n",
        "    device = torch.device('cuda:0' if torch.cuda.is_available() else \"cpu\")\n",
        "\n",
        "    new_model = model\n",
        "    transform = transforms.Compose([\n",
        "    transforms.CenterCrop(512),\n",
        "    transforms.Resize(448),\n",
        "    transforms.ToTensor()                              \n",
        "    ])\n",
        "    \n",
        "    # Read the file\n",
        "    #img = cv2.imread(image)\n",
        "    # Transform the image\n",
        "    img = transform(image)\n",
        "    # Reshape the image. PyTorch model reads 4-dimensional tensor\n",
        "    # [batch_size, channels, width, height]\n",
        "    img = img.reshape(1, 3, 448, 448)\n",
        "    img = img.to(device)\n",
        "    # We only extract features, so we don't need gradient\n",
        "    with torch.no_grad():\n",
        "      # Extract the feature from the image\n",
        "      feature = new_model(img)\n",
        "    # Convert to NumPy Array, Reshape it, and save it to features variable\n",
        "    feature_reshape = feature.cpu().detach().numpy().reshape(-1)\n",
        "\n",
        "    # Convert to NumPy Array\n",
        "    features = np.array(feature_reshape)\n",
        "    print(features.shape)\n",
        "    return features\n",
        "\n",
        "  \n",
        "  def plot_images2(batch_images, row_size):    \n",
        "    grid = st.columns(row_size)\n",
        "    col = 0\n",
        "    for image in batch_images:\n",
        "        with grid[col]:\n",
        "            image_plot =  Image.open('/content/drive/MyDrive/MIA 2022/Proyecto aplicado I/PAI/images_rescaled/images_rescaled/0'+image+'.jpg')\n",
        "            st.image(image_plot)     \n",
        "        col = (col + 1) % row_size\n",
        " \n",
        "  def plot_images(batch_images, row_size):    \n",
        "    grid = st.columns(row_size)\n",
        "    col = 0\n",
        "    for image in batch_images:\n",
        "        with grid[col]:\n",
        "            image_plot =  Image.open('/content/drive/MyDrive/MIA 2022/Proyecto aplicado I/PAI/images_rescaled/images_rescaled/'+image)\n",
        "            st.image(image_plot)     \n",
        "        col = (col + 1) % row_size\n",
        "\n",
        "\n",
        "\n",
        "  def find_similar_images(embedding_search, embedding, metrics=('euclidean',), topk=5):\n",
        "    assert len(metrics) > 0\n",
        "    assert topk <= 30 #No recomendar tantas imagenes\n",
        "    n = embedding.shape[0]    \n",
        "\n",
        "    # --- show retrieved images for each metric\n",
        "    for metric in metrics:\n",
        "        print('-------- retrieved with metric = %s -----' % metric)\n",
        "        distances = pairwise_distances(embedding_search.reshape(1,-1), embedding, metric=metric)\n",
        "        heap = []\n",
        "        for i in range(n):            \n",
        "            if len(heap) < topk:\n",
        "                heapq.heappush(heap, (-distances[0][i], i))\n",
        "            else:\n",
        "                heapq.heappushpop(heap, (-distances[0][i], i))\n",
        "        heap.sort(reverse=True)\n",
        "        \n",
        "        rec_ids = [index2id[i] for _,i in heap]\n",
        "        plot_images(rec_ids, 5)\n",
        "        \n",
        "\n",
        "\n",
        "\n",
        "\n",
        "\n",
        "\n",
        "\n",
        "  ### Sitio Streamlit\n",
        "\n",
        "\n",
        "  col1 , col2 , col3 = st.columns([1,2,1,])\n",
        "  img = Image.open(\"/content/descarga.png\")\n",
        "  img2 = Image.open(\"/content/descarga (1).png\")\n",
        "  col1.image(img,width=100,caption=\"La Pelar\")\n",
        "  col2.title(\"Alamacenes La Pelar\")\n",
        "  col3.image(img2,width=100,caption=\"PAI\")\n",
        "  \n",
        "  #st.subheader(\"Siempre todo original\")\n",
        "  #col3.markdown(\"\"\"### _Elige los mejores productos originales de nuestras marcas adides y under amor_ :sunglasses:\"\"\",True)\n",
        "  st.sidebar.info(\"Los mejores productos\")\n",
        "  menu = [\"Home\",\"Recomendacion_x_imagen\",\"SignUp\"]\n",
        "  choice = st.sidebar.selectbox('Menu',menu)\n",
        "\n",
        "\n",
        "  if choice == 'Home':\n",
        "    st.subheader(\"Inicio\")\t\n",
        "    st.markdown(\"\"\"## _Elige los mejores productos originales de nuestras marcas adides y under amor_ :sunglasses:\"\"\",True)\n",
        "    cola,colb,colc = st.columns([1,2,1])\n",
        "    colb.markdown(\"\"\"### :sparkles: _Los productos más vendidos de nuestra tienda_ :sparkles:\"\"\", True)\n",
        "    batch_images1 = [\"0108775015.jpg\",\"0108775044.jpg\",\"0108775051.jpg\",\"0116379047.jpg\",\"0118458003.jpg\"]  # ['0706016001.jpg','0706016002.jpg','0372860001.jpg', '0617758004.jpg', '0759871002.jpg','0673396002.jpg', '0464297007.jpg', '0372860002.jpg', '0673677002.jpg', '0399223001.jpg']#['0706016001', '0706016002', '0372860001', '0610776002', '0759871002','0673396002', '0464297007', '0372860002', '0673677002', '0399223001'] \n",
        "    #batch_images2 = []\n",
        "    row_size = 5\n",
        "    plot_images(batch_images1, row_size)\n",
        "    #plot_images(batch_images2, row_size)\n",
        "\n",
        "\n",
        "  elif choice == \"Recomendacion_x_imagen\":\n",
        "    st.subheader(\"Recomendación para Usuarios Registrados\")\t\n",
        "    username  = st.sidebar.text_input(\"User Name\")\n",
        "    password = st.sidebar.text_input(\"Password\",type='password' )\n",
        "    if st.sidebar.checkbox(\"Login\"):\n",
        "      if password == '12345':\n",
        "        st.success(\"Logged In as {}\".format(username))\n",
        "\n",
        "\n",
        "        st.markdown(\"\"\"### Sube tu foto :handbag: :mans_shoe: :boot: :game_die:\"\"\",True)\n",
        "        with st.expander(\"Descubre por una imagen los mejores productos\"):\n",
        "          model = load_model()\n",
        "          image = load_image()\n",
        "          result = st.button('Run on image')\n",
        "          #batch_images = [\"0108775015\",\"0108775044\",\"0108775051\",\"0116379047\",\"0118458003\"]\n",
        "          #row_size = 5\n",
        "          if result:\n",
        "            #plot_images(batch_images, row_size)\n",
        "            #st.snow()\n",
        "            embedding_search= preprocess_image(model, image)\n",
        "            vgg19_featmat = load_vector(persist = True)\n",
        "            find_similar_images(embedding_search, vgg19_featmat)\n",
        "\n",
        "\n",
        "\n",
        "        st.markdown(\"\"\"### Recomendaciones en base a tu perfil de cliente  :handbag: :mans_shoe: :boot: :game_die:\"\"\",True)\n",
        "        with st.expander(\"Descubre en base a tus compras pasadas\"):\n",
        "          df = load_customers()\n",
        "          customer_id = df[(df.customer_id == username)]\n",
        "          customer_id = customer_id.values.tolist()\n",
        "          customer_id = customer_id[0]\n",
        "          customer_id = [str(item) for item in customer_id]\n",
        "          if username == customer_id[0]:\n",
        "            \n",
        "            batch_images3 = customer_id[1:11]\n",
        "            st.write(\"usermane: \", username, \"batch_images: \",batch_images3)\n",
        "            row_size1 = 5\n",
        "            plot_images2(batch_images3, row_size1)\n",
        "            st.balloons()\n",
        "          else: \n",
        "            st.warning(\"Usuario no Resgistrado\")\n",
        "            st.success(\"Logged In as {}\".format(username))\n",
        "            st.success(\"Logged In as {}\".format(customer_id[0]))\n",
        "\n",
        "        st.markdown(\"\"\"### Saca una foto :handbag: :mans_shoe: :boot: :game_die:\"\"\",True)\n",
        "        with st.expander(\"Descubre por Foto los mejores productos\"):\n",
        "          model = load_model()\n",
        "          image2 = st.camera_input(\"take a photo\")\n",
        "          result = st.button('Run on photo')\n",
        "          #batch_images = [\"0108775015\",\"0108775044\",\"0108775051\",\"0116379047\",\"0118458003\"]\n",
        "          #row_size = 5\n",
        "          if result:\n",
        "            #plot_images(batch_images, row_size)\n",
        "            embedding_search= preprocess_image(model, image2)\n",
        "            vgg19_featmat = load_vector(persist = True)\n",
        "            find_similar_images(embedding_search, vgg19_featmat)\n",
        "            st.snow()\n",
        "\n",
        "        #batch_images3 = get_user_rec(username) #[\"0108775015\",\"0108775044\",\"0108775051\",\"0116379047\",\"0118458003\"]\n",
        "        #row_size = 5\n",
        "        #plot_images2(batch_images, row_size)\n",
        "\n",
        "\n",
        "\n",
        "        \n",
        "\n",
        "\n",
        "\n",
        "\n",
        "        #file = st.file_uploader(\"Subir aquí la imagen \", type=[\"jpg\", \"jpeg\", \"png\"])\n",
        "        #photo = camera_input(\"take a photo\")\n",
        "        #if file is None:\n",
        "        #  st.text(\"Por favor subir una imagen\")\n",
        "        \n",
        "      else:\n",
        "        st.warning(\"Incorrect UserName/Password\")\n",
        "\n",
        "\n",
        "    #elif choice == \"Recomendacion_x_compra\":\n",
        "    #  st.subheader(\"Recomendación para Usuarios Registrados por compra\")\t\n",
        "    #  username  = st.text_input(\"User Name\")\n",
        "    #  password = st.text_input(\"Password\",type='password' )\n",
        "    #  #if st.sidebar.checkbox(\"Login\"):\n",
        "    #  if password == '12345':\n",
        "    #    st.success(\"Logged In as {}\".format(username))\n",
        "    #    result = st.button('Ver recomendación')\n",
        "    #    batch_images = get_user_rec(username)#[\"0108775015\",\"0108775044\",\"0108775051\",\"0116379047\",\"0118458003\"]\n",
        "    #    row_size = 5\n",
        "    #    if result:\n",
        "    #      plot_images2(batch_images, row_size)\n",
        "      \n",
        "    #  else:\n",
        "    #    st.warning(\"Incorrect UserName/Password\")\n",
        "\n",
        "  elif choice == \"SignUp\":\n",
        "    st.subheader(\"Create New Account\")\t\n",
        "    new_user = st.text_input(\"UserName\")\n",
        "    new_password = st.text_input(\"Password\",type = 'password')\n",
        "    photo = st.camera_input(\"take a photo\")\n",
        "    if st.button(\"SignUp\"):\n",
        "      st.success(\"you have successfully created an Account\")\n",
        "      st.balloons()\n",
        "      st.info(\"Comienza a comprar!\t:gift:\")\n",
        "\n",
        "\n",
        "\n",
        "\n",
        "\n",
        "\n",
        "\n",
        "\n",
        "\n",
        "\n",
        "\n",
        "\n",
        "\n",
        "\n",
        "\n",
        "\n",
        "\n",
        "\n",
        "if __name__ == '__main__':\n",
        "  main()"
      ]
    },
    {
      "cell_type": "markdown",
      "metadata": {
        "id": "LrS2itib_ew9"
      },
      "source": [
        "### Streamlit run\n",
        "---\n"
      ]
    },
    {
      "cell_type": "code",
      "execution_count": null,
      "metadata": {
        "colab": {
          "background_save": true,
          "base_uri": "https://localhost:8080/"
        },
        "id": "TNrTlQb55qY-",
        "outputId": "0afd2819-e2bd-411d-e9ec-12ee1e1fc22f"
      },
      "outputs": [
        {
          "name": "stdout",
          "output_type": "stream",
          "text": [
            "\u001b[K\u001b[?25hnpx: installed 22 in 2.274s\n",
            "\n",
            "Collecting usage statistics. To deactivate, set browser.gatherUsageStats to False.\n",
            "\u001b[0m\n",
            "your url is: https://polite-mangos-attack-34-86-245-249.loca.lt\n",
            "\u001b[0m\n",
            "\u001b[34m\u001b[1m  You can now view your Streamlit app in your browser.\u001b[0m\n",
            "\u001b[0m\n",
            "\u001b[34m  Network URL: \u001b[0m\u001b[1mhttp://172.28.0.12:8501\u001b[0m\n",
            "\u001b[34m  External URL: \u001b[0m\u001b[1mhttp://34.86.245.249:8501\u001b[0m\n",
            "\u001b[0m\n",
            "/usr/local/lib/python3.8/dist-packages/torchvision/models/_utils.py:208: UserWarning: The parameter 'pretrained' is deprecated since 0.13 and may be removed in the future, please use 'weights' instead.\n",
            "  warnings.warn(\n",
            "/usr/local/lib/python3.8/dist-packages/torchvision/models/_utils.py:223: UserWarning: Arguments other than a weight enum or `None` for 'weights' are deprecated since 0.13 and may be removed in the future. The current behavior is equivalent to passing `weights=VGG16_Weights.IMAGENET1K_V1`. You can also use `weights=VGG16_Weights.DEFAULT` to get the most up-to-date weights.\n",
            "  warnings.warn(msg)\n",
            "/usr/local/lib/python3.8/dist-packages/torchvision/models/_utils.py:208: UserWarning: The parameter 'pretrained' is deprecated since 0.13 and may be removed in the future, please use 'weights' instead.\n",
            "  warnings.warn(\n",
            "/usr/local/lib/python3.8/dist-packages/torchvision/models/_utils.py:223: UserWarning: Arguments other than a weight enum or `None` for 'weights' are deprecated since 0.13 and may be removed in the future. The current behavior is equivalent to passing `weights=VGG16_Weights.IMAGENET1K_V1`. You can also use `weights=VGG16_Weights.DEFAULT` to get the most up-to-date weights.\n",
            "  warnings.warn(msg)\n",
            "(4096,)\n",
            "tcmalloc: large alloc 2536177664 bytes == 0xa9efa000 @  0x7fe2bdeb31e7 0x7fe2ba8c214e 0x7fe2ba91b8bf 0x7fe2ba91c4ff 0x7fe2ba9c25cd 0x5d80be 0x5d8d8c 0x55ea20 0x55cd91 0x5d8941 0x49abe4 0x55cd91 0x5d8941 0x49abe4 0x55cd91 0x5d8941 0x5d8416 0x55f797 0x55d078 0x5d8941 0x4990ca 0x55d078 0x5d8941 0x49abe4 0x55d078 0x5d8941 0x4990ca 0x55cd91 0x55d743 0x627376 0x5aaeb9\n",
            "-------- retrieved with metric = euclidean -----\n",
            "/usr/local/lib/python3.8/dist-packages/torchvision/models/_utils.py:208: UserWarning: The parameter 'pretrained' is deprecated since 0.13 and may be removed in the future, please use 'weights' instead.\n",
            "  warnings.warn(\n",
            "/usr/local/lib/python3.8/dist-packages/torchvision/models/_utils.py:223: UserWarning: Arguments other than a weight enum or `None` for 'weights' are deprecated since 0.13 and may be removed in the future. The current behavior is equivalent to passing `weights=VGG16_Weights.IMAGENET1K_V1`. You can also use `weights=VGG16_Weights.DEFAULT` to get the most up-to-date weights.\n",
            "  warnings.warn(msg)\n",
            "2022-12-15 21:56:17.381 Uncaught app exception\n",
            "Traceback (most recent call last):\n",
            "  File \"/usr/local/lib/python3.8/dist-packages/streamlit/runtime/scriptrunner/script_runner.py\", line 563, in _run_script\n",
            "    exec(code, module.__dict__)\n",
            "  File \"/content/app.py\", line 330, in <module>\n",
            "    main()\n",
            "  File \"/content/app.py\", line 238, in main\n",
            "    customer_id = customer_id[0]\n",
            "IndexError: list index out of range\n",
            "2022-12-15 21:57:37.365 Uncaught app exception\n",
            "Traceback (most recent call last):\n",
            "  File \"/usr/local/lib/python3.8/dist-packages/streamlit/runtime/scriptrunner/script_runner.py\", line 563, in _run_script\n",
            "    exec(code, module.__dict__)\n",
            "  File \"/content/app.py\", line 330, in <module>\n",
            "    main()\n",
            "  File \"/content/app.py\", line 238, in main\n",
            "    customer_id = customer_id[0]\n",
            "IndexError: list index out of range\n",
            "(4096,)\n",
            "-------- retrieved with metric = euclidean -----\n",
            "2022-12-15 21:57:49.641 Uncaught app exception\n",
            "Traceback (most recent call last):\n",
            "  File \"/usr/local/lib/python3.8/dist-packages/streamlit/runtime/scriptrunner/script_runner.py\", line 563, in _run_script\n",
            "    exec(code, module.__dict__)\n",
            "  File \"/content/app.py\", line 330, in <module>\n",
            "    main()\n",
            "  File \"/content/app.py\", line 238, in main\n",
            "    customer_id = customer_id[0]\n",
            "IndexError: list index out of range\n",
            "/usr/local/lib/python3.8/dist-packages/torchvision/models/_utils.py:208: UserWarning: The parameter 'pretrained' is deprecated since 0.13 and may be removed in the future, please use 'weights' instead.\n",
            "  warnings.warn(\n",
            "/usr/local/lib/python3.8/dist-packages/torchvision/models/_utils.py:223: UserWarning: Arguments other than a weight enum or `None` for 'weights' are deprecated since 0.13 and may be removed in the future. The current behavior is equivalent to passing `weights=VGG16_Weights.IMAGENET1K_V1`. You can also use `weights=VGG16_Weights.DEFAULT` to get the most up-to-date weights.\n",
            "  warnings.warn(msg)\n",
            "2022-12-15 21:58:44.282 Uncaught app exception\n",
            "Traceback (most recent call last):\n",
            "  File \"/usr/local/lib/python3.8/dist-packages/streamlit/runtime/scriptrunner/script_runner.py\", line 563, in _run_script\n",
            "    exec(code, module.__dict__)\n",
            "  File \"/content/app.py\", line 330, in <module>\n",
            "    main()\n",
            "  File \"/content/app.py\", line 238, in main\n",
            "    customer_id = customer_id[0]\n",
            "IndexError: list index out of range\n",
            "-------- retrieved with metric = euclidean -----\n",
            "/usr/local/lib/python3.8/dist-packages/torchvision/models/_utils.py:208: UserWarning: The parameter 'pretrained' is deprecated since 0.13 and may be removed in the future, please use 'weights' instead.\n",
            "  warnings.warn(\n",
            "/usr/local/lib/python3.8/dist-packages/torchvision/models/_utils.py:223: UserWarning: Arguments other than a weight enum or `None` for 'weights' are deprecated since 0.13 and may be removed in the future. The current behavior is equivalent to passing `weights=VGG16_Weights.IMAGENET1K_V1`. You can also use `weights=VGG16_Weights.DEFAULT` to get the most up-to-date weights.\n",
            "  warnings.warn(msg)\n",
            "2022-12-15 22:12:40.790 Uncaught app exception\n",
            "Traceback (most recent call last):\n",
            "  File \"/usr/local/lib/python3.8/dist-packages/streamlit/runtime/scriptrunner/script_runner.py\", line 563, in _run_script\n",
            "    exec(code, module.__dict__)\n",
            "  File \"/content/app.py\", line 330, in <module>\n",
            "    main()\n",
            "  File \"/content/app.py\", line 238, in main\n",
            "    customer_id = customer_id[0]\n",
            "IndexError: list index out of range\n",
            "(4096,)\n",
            "-------- retrieved with metric = euclidean -----\n",
            "2022-12-15 22:13:11.900 Uncaught app exception\n",
            "Traceback (most recent call last):\n",
            "  File \"/usr/local/lib/python3.8/dist-packages/streamlit/runtime/scriptrunner/script_runner.py\", line 563, in _run_script\n",
            "    exec(code, module.__dict__)\n",
            "  File \"/content/app.py\", line 330, in <module>\n",
            "    main()\n",
            "  File \"/content/app.py\", line 238, in main\n",
            "    customer_id = customer_id[0]\n",
            "IndexError: list index out of range\n",
            "/usr/local/lib/python3.8/dist-packages/torchvision/models/_utils.py:208: UserWarning: The parameter 'pretrained' is deprecated since 0.13 and may be removed in the future, please use 'weights' instead.\n",
            "  warnings.warn(\n",
            "/usr/local/lib/python3.8/dist-packages/torchvision/models/_utils.py:223: UserWarning: Arguments other than a weight enum or `None` for 'weights' are deprecated since 0.13 and may be removed in the future. The current behavior is equivalent to passing `weights=VGG16_Weights.IMAGENET1K_V1`. You can also use `weights=VGG16_Weights.DEFAULT` to get the most up-to-date weights.\n",
            "  warnings.warn(msg)\n",
            "2022-12-15 22:13:26.933 Uncaught app exception\n",
            "Traceback (most recent call last):\n",
            "  File \"/usr/local/lib/python3.8/dist-packages/streamlit/runtime/scriptrunner/script_runner.py\", line 563, in _run_script\n",
            "    exec(code, module.__dict__)\n",
            "  File \"/content/app.py\", line 330, in <module>\n",
            "    main()\n",
            "  File \"/content/app.py\", line 238, in main\n",
            "    customer_id = customer_id[0]\n",
            "IndexError: list index out of range\n",
            "2022-12-15 22:14:11.967 Uncaught app exception\n",
            "Traceback (most recent call last):\n",
            "  File \"/usr/local/lib/python3.8/dist-packages/streamlit/runtime/scriptrunner/script_runner.py\", line 563, in _run_script\n",
            "    exec(code, module.__dict__)\n",
            "  File \"/content/app.py\", line 330, in <module>\n",
            "    main()\n",
            "  File \"/content/app.py\", line 238, in main\n",
            "    customer_id = customer_id[0]\n",
            "IndexError: list index out of range\n",
            "(4096,)\n",
            "-------- retrieved with metric = euclidean -----\n",
            "2022-12-15 22:14:18.991 Uncaught app exception\n",
            "Traceback (most recent call last):\n",
            "  File \"/usr/local/lib/python3.8/dist-packages/streamlit/runtime/scriptrunner/script_runner.py\", line 563, in _run_script\n",
            "    exec(code, module.__dict__)\n",
            "  File \"/content/app.py\", line 330, in <module>\n",
            "    main()\n",
            "  File \"/content/app.py\", line 238, in main\n",
            "    customer_id = customer_id[0]\n",
            "IndexError: list index out of range\n",
            "/usr/local/lib/python3.8/dist-packages/torchvision/models/_utils.py:208: UserWarning: The parameter 'pretrained' is deprecated since 0.13 and may be removed in the future, please use 'weights' instead.\n",
            "  warnings.warn(\n",
            "/usr/local/lib/python3.8/dist-packages/torchvision/models/_utils.py:223: UserWarning: Arguments other than a weight enum or `None` for 'weights' are deprecated since 0.13 and may be removed in the future. The current behavior is equivalent to passing `weights=VGG16_Weights.IMAGENET1K_V1`. You can also use `weights=VGG16_Weights.DEFAULT` to get the most up-to-date weights.\n",
            "  warnings.warn(msg)\n",
            "2022-12-15 22:16:03.266 Uncaught app exception\n",
            "Traceback (most recent call last):\n",
            "  File \"/usr/local/lib/python3.8/dist-packages/streamlit/runtime/scriptrunner/script_runner.py\", line 563, in _run_script\n",
            "    exec(code, module.__dict__)\n",
            "  File \"/content/app.py\", line 330, in <module>\n",
            "    main()\n",
            "  File \"/content/app.py\", line 245, in main\n",
            "    plot_images2(batch_images3, row_size1)\n",
            "  File \"/content/app.py\", line 137, in plot_images2\n",
            "    image_plot =  Image.open('/content/drive/MyDrive/MIA 2022/Proyecto aplicado I/PAI/images_rescaled/images_rescaled/0'+image+'.jpg')\n",
            "  File \"/usr/local/lib/python3.8/dist-packages/PIL/Image.py\", line 2843, in open\n",
            "    fp = builtins.open(filename, \"rb\")\n",
            "FileNotFoundError: [Errno 2] No such file or directory: '/content/drive/MyDrive/MIA 2022/Proyecto aplicado I/PAI/images_rescaled/images_rescaled/0610776002.jpg'\n",
            "2022-12-15 22:17:06.100 Uncaught app exception\n",
            "Traceback (most recent call last):\n",
            "  File \"/usr/local/lib/python3.8/dist-packages/streamlit/runtime/scriptrunner/script_runner.py\", line 563, in _run_script\n",
            "    exec(code, module.__dict__)\n",
            "  File \"/content/app.py\", line 330, in <module>\n",
            "    main()\n",
            "  File \"/content/app.py\", line 245, in main\n",
            "    plot_images2(batch_images3, row_size1)\n",
            "  File \"/content/app.py\", line 137, in plot_images2\n",
            "    image_plot =  Image.open('/content/drive/MyDrive/MIA 2022/Proyecto aplicado I/PAI/images_rescaled/images_rescaled/0'+image+'.jpg')\n",
            "  File \"/usr/local/lib/python3.8/dist-packages/PIL/Image.py\", line 2843, in open\n",
            "    fp = builtins.open(filename, \"rb\")\n",
            "FileNotFoundError: [Errno 2] No such file or directory: '/content/drive/MyDrive/MIA 2022/Proyecto aplicado I/PAI/images_rescaled/images_rescaled/0610776001.jpg'\n"
          ]
        }
      ],
      "source": [
        "!streamlit run app.py --server.fileWatcherType none & npx localtunnel --port 8501"
      ]
    },
    {
      "cell_type": "code",
      "execution_count": null,
      "metadata": {
        "colab": {
          "base_uri": "https://localhost:8080/",
          "height": 397
        },
        "id": "VslBYOS4vPn-",
        "outputId": "c8b35c91-84f3-4a1a-e8c8-ccbc785fbf74"
      },
      "outputs": [
        {
          "name": "stdout",
          "output_type": "stream",
          "text": [
            "\u001b[K\u001b[?25hnpx: installed 22 in 2.073s\n",
            "\n",
            "Collecting usage statistics. To deactivate, set browser.gatherUsageStats to False.\n",
            "\u001b[0m\n",
            "your url is: https://fast-drinks-post-34-86-245-249.loca.lt\n"
          ]
        },
        {
          "ename": "KeyboardInterrupt",
          "evalue": "ignored",
          "output_type": "error",
          "traceback": [
            "\u001b[0;31m---------------------------------------------------------------------------\u001b[0m",
            "\u001b[0;31mKeyboardInterrupt\u001b[0m                         Traceback (most recent call last)",
            "\u001b[0;32m<ipython-input-12-59df68f176b0>\u001b[0m in \u001b[0;36m<module>\u001b[0;34m\u001b[0m\n\u001b[0;32m----> 1\u001b[0;31m \u001b[0mget_ipython\u001b[0m\u001b[0;34m(\u001b[0m\u001b[0;34m)\u001b[0m\u001b[0;34m.\u001b[0m\u001b[0msystem\u001b[0m\u001b[0;34m(\u001b[0m\u001b[0;34m'streamlit run app.py & npx localtunnel --port 8501 --server.fileWatcherType none'\u001b[0m\u001b[0;34m)\u001b[0m\u001b[0;34m\u001b[0m\u001b[0;34m\u001b[0m\u001b[0m\n\u001b[0m",
            "\u001b[0;32m/usr/local/lib/python3.8/dist-packages/google/colab/_shell.py\u001b[0m in \u001b[0;36msystem\u001b[0;34m(self, *args, **kwargs)\u001b[0m\n\u001b[1;32m     93\u001b[0m       \u001b[0mkwargs\u001b[0m\u001b[0;34m.\u001b[0m\u001b[0mupdate\u001b[0m\u001b[0;34m(\u001b[0m\u001b[0;34m{\u001b[0m\u001b[0;34m'also_return_output'\u001b[0m\u001b[0;34m:\u001b[0m \u001b[0;32mTrue\u001b[0m\u001b[0;34m}\u001b[0m\u001b[0;34m)\u001b[0m\u001b[0;34m\u001b[0m\u001b[0;34m\u001b[0m\u001b[0m\n\u001b[1;32m     94\u001b[0m \u001b[0;34m\u001b[0m\u001b[0m\n\u001b[0;32m---> 95\u001b[0;31m     \u001b[0moutput\u001b[0m \u001b[0;34m=\u001b[0m \u001b[0m_system_commands\u001b[0m\u001b[0;34m.\u001b[0m\u001b[0m_system_compat\u001b[0m\u001b[0;34m(\u001b[0m\u001b[0mself\u001b[0m\u001b[0;34m,\u001b[0m \u001b[0;34m*\u001b[0m\u001b[0margs\u001b[0m\u001b[0;34m,\u001b[0m \u001b[0;34m**\u001b[0m\u001b[0mkwargs\u001b[0m\u001b[0;34m)\u001b[0m  \u001b[0;31m# pylint:disable=protected-access\u001b[0m\u001b[0;34m\u001b[0m\u001b[0;34m\u001b[0m\u001b[0m\n\u001b[0m\u001b[1;32m     96\u001b[0m \u001b[0;34m\u001b[0m\u001b[0m\n\u001b[1;32m     97\u001b[0m     \u001b[0;32mif\u001b[0m \u001b[0mpip_warn\u001b[0m\u001b[0;34m:\u001b[0m\u001b[0;34m\u001b[0m\u001b[0;34m\u001b[0m\u001b[0m\n",
            "\u001b[0;32m/usr/local/lib/python3.8/dist-packages/google/colab/_system_commands.py\u001b[0m in \u001b[0;36m_system_compat\u001b[0;34m(shell, cmd, also_return_output)\u001b[0m\n\u001b[1;32m    434\u001b[0m   \u001b[0;31m# is expected to call this function, thus adding one level of nesting to the\u001b[0m\u001b[0;34m\u001b[0m\u001b[0;34m\u001b[0m\u001b[0;34m\u001b[0m\u001b[0m\n\u001b[1;32m    435\u001b[0m   \u001b[0;31m# stack.\u001b[0m\u001b[0;34m\u001b[0m\u001b[0;34m\u001b[0m\u001b[0;34m\u001b[0m\u001b[0m\n\u001b[0;32m--> 436\u001b[0;31m   result = _run_command(\n\u001b[0m\u001b[1;32m    437\u001b[0m       shell.var_expand(cmd, depth=2), clear_streamed_output=False)\n\u001b[1;32m    438\u001b[0m   \u001b[0mshell\u001b[0m\u001b[0;34m.\u001b[0m\u001b[0muser_ns\u001b[0m\u001b[0;34m[\u001b[0m\u001b[0;34m'_exit_code'\u001b[0m\u001b[0;34m]\u001b[0m \u001b[0;34m=\u001b[0m \u001b[0mresult\u001b[0m\u001b[0;34m.\u001b[0m\u001b[0mreturncode\u001b[0m\u001b[0;34m\u001b[0m\u001b[0;34m\u001b[0m\u001b[0m\n",
            "\u001b[0;32m/usr/local/lib/python3.8/dist-packages/google/colab/_system_commands.py\u001b[0m in \u001b[0;36m_run_command\u001b[0;34m(cmd, clear_streamed_output)\u001b[0m\n\u001b[1;32m    193\u001b[0m       \u001b[0mos\u001b[0m\u001b[0;34m.\u001b[0m\u001b[0mclose\u001b[0m\u001b[0;34m(\u001b[0m\u001b[0mchild_pty\u001b[0m\u001b[0;34m)\u001b[0m\u001b[0;34m\u001b[0m\u001b[0;34m\u001b[0m\u001b[0m\n\u001b[1;32m    194\u001b[0m \u001b[0;34m\u001b[0m\u001b[0m\n\u001b[0;32m--> 195\u001b[0;31m       \u001b[0;32mreturn\u001b[0m \u001b[0m_monitor_process\u001b[0m\u001b[0;34m(\u001b[0m\u001b[0mparent_pty\u001b[0m\u001b[0;34m,\u001b[0m \u001b[0mepoll\u001b[0m\u001b[0;34m,\u001b[0m \u001b[0mp\u001b[0m\u001b[0;34m,\u001b[0m \u001b[0mcmd\u001b[0m\u001b[0;34m,\u001b[0m \u001b[0mupdate_stdin_widget\u001b[0m\u001b[0;34m)\u001b[0m\u001b[0;34m\u001b[0m\u001b[0;34m\u001b[0m\u001b[0m\n\u001b[0m\u001b[1;32m    196\u001b[0m   \u001b[0;32mfinally\u001b[0m\u001b[0;34m:\u001b[0m\u001b[0;34m\u001b[0m\u001b[0;34m\u001b[0m\u001b[0m\n\u001b[1;32m    197\u001b[0m     \u001b[0mepoll\u001b[0m\u001b[0;34m.\u001b[0m\u001b[0mclose\u001b[0m\u001b[0;34m(\u001b[0m\u001b[0;34m)\u001b[0m\u001b[0;34m\u001b[0m\u001b[0;34m\u001b[0m\u001b[0m\n",
            "\u001b[0;32m/usr/local/lib/python3.8/dist-packages/google/colab/_system_commands.py\u001b[0m in \u001b[0;36m_monitor_process\u001b[0;34m(parent_pty, epoll, p, cmd, update_stdin_widget)\u001b[0m\n\u001b[1;32m    223\u001b[0m   \u001b[0;32mwhile\u001b[0m \u001b[0;32mTrue\u001b[0m\u001b[0;34m:\u001b[0m\u001b[0;34m\u001b[0m\u001b[0;34m\u001b[0m\u001b[0m\n\u001b[1;32m    224\u001b[0m     \u001b[0;32mtry\u001b[0m\u001b[0;34m:\u001b[0m\u001b[0;34m\u001b[0m\u001b[0;34m\u001b[0m\u001b[0m\n\u001b[0;32m--> 225\u001b[0;31m       \u001b[0mresult\u001b[0m \u001b[0;34m=\u001b[0m \u001b[0m_poll_process\u001b[0m\u001b[0;34m(\u001b[0m\u001b[0mparent_pty\u001b[0m\u001b[0;34m,\u001b[0m \u001b[0mepoll\u001b[0m\u001b[0;34m,\u001b[0m \u001b[0mp\u001b[0m\u001b[0;34m,\u001b[0m \u001b[0mcmd\u001b[0m\u001b[0;34m,\u001b[0m \u001b[0mdecoder\u001b[0m\u001b[0;34m,\u001b[0m \u001b[0mstate\u001b[0m\u001b[0;34m)\u001b[0m\u001b[0;34m\u001b[0m\u001b[0;34m\u001b[0m\u001b[0m\n\u001b[0m\u001b[1;32m    226\u001b[0m       \u001b[0;32mif\u001b[0m \u001b[0mresult\u001b[0m \u001b[0;32mis\u001b[0m \u001b[0;32mnot\u001b[0m \u001b[0;32mNone\u001b[0m\u001b[0;34m:\u001b[0m\u001b[0;34m\u001b[0m\u001b[0;34m\u001b[0m\u001b[0m\n\u001b[1;32m    227\u001b[0m         \u001b[0;32mreturn\u001b[0m \u001b[0mresult\u001b[0m\u001b[0;34m\u001b[0m\u001b[0;34m\u001b[0m\u001b[0m\n",
            "\u001b[0;32m/usr/local/lib/python3.8/dist-packages/google/colab/_system_commands.py\u001b[0m in \u001b[0;36m_poll_process\u001b[0;34m(parent_pty, epoll, p, cmd, decoder, state)\u001b[0m\n\u001b[1;32m    270\u001b[0m   \u001b[0moutput_available\u001b[0m \u001b[0;34m=\u001b[0m \u001b[0;32mFalse\u001b[0m\u001b[0;34m\u001b[0m\u001b[0;34m\u001b[0m\u001b[0m\n\u001b[1;32m    271\u001b[0m \u001b[0;34m\u001b[0m\u001b[0m\n\u001b[0;32m--> 272\u001b[0;31m   \u001b[0mevents\u001b[0m \u001b[0;34m=\u001b[0m \u001b[0mepoll\u001b[0m\u001b[0;34m.\u001b[0m\u001b[0mpoll\u001b[0m\u001b[0;34m(\u001b[0m\u001b[0;34m)\u001b[0m\u001b[0;34m\u001b[0m\u001b[0;34m\u001b[0m\u001b[0m\n\u001b[0m\u001b[1;32m    273\u001b[0m   \u001b[0minput_events\u001b[0m \u001b[0;34m=\u001b[0m \u001b[0;34m[\u001b[0m\u001b[0;34m]\u001b[0m\u001b[0;34m\u001b[0m\u001b[0;34m\u001b[0m\u001b[0m\n\u001b[1;32m    274\u001b[0m   \u001b[0;32mfor\u001b[0m \u001b[0m_\u001b[0m\u001b[0;34m,\u001b[0m \u001b[0mevent\u001b[0m \u001b[0;32min\u001b[0m \u001b[0mevents\u001b[0m\u001b[0;34m:\u001b[0m\u001b[0;34m\u001b[0m\u001b[0;34m\u001b[0m\u001b[0m\n",
            "\u001b[0;31mKeyboardInterrupt\u001b[0m: "
          ]
        }
      ],
      "source": [
        "!streamlit run app.py & npx localtunnel --port 8501 --server.fileWatcherType none"
      ]
    },
    {
      "cell_type": "code",
      "execution_count": null,
      "metadata": {
        "colab": {
          "base_uri": "https://localhost:8080/"
        },
        "id": "WR9xP28GvEE1",
        "outputId": "62803000-82a0-46f5-8cf2-242bb6ff19fe"
      },
      "outputs": [
        {
          "name": "stdout",
          "output_type": "stream",
          "text": [
            "/bin/bash: nohub: command not found\n"
          ]
        }
      ],
      "source": [
        "!nohub streamlit run app.py &"
      ]
    },
    {
      "cell_type": "code",
      "execution_count": null,
      "metadata": {
        "id": "vCS-D111vHqV"
      },
      "outputs": [],
      "source": [
        "!streamlit run app.py &>/dev/null&"
      ]
    },
    {
      "cell_type": "code",
      "execution_count": null,
      "metadata": {
        "colab": {
          "base_uri": "https://localhost:8080/"
        },
        "id": "AfoGh0c_vKnD",
        "outputId": "b3e6a6c4-fc93-4624-b3e4-9d827273a0f0"
      },
      "outputs": [
        {
          "name": "stdout",
          "output_type": "stream",
          "text": [
            "Authtoken saved to configuration file: /root/.ngrok2/ngrok.yml\n"
          ]
        }
      ],
      "source": [
        "!ngrok authtoken 2IotzBmVkn8zjiWUWoxsB9v5vQ6_CELRvunzqvB9nnDtL8Pn"
      ]
    },
    {
      "cell_type": "code",
      "execution_count": null,
      "metadata": {
        "colab": {
          "base_uri": "https://localhost:8080/"
        },
        "id": "uOQjAa4lvMtZ",
        "outputId": "abc15718-0ccf-46e4-a65f-d1a319885c9a"
      },
      "outputs": [
        {
          "data": {
            "text/plain": [
              "<NgrokTunnel: \"http://cbcf-34-86-245-249.ngrok.io\" -> \"http://localhost:80\">"
            ]
          },
          "execution_count": 8,
          "metadata": {},
          "output_type": "execute_result"
        }
      ],
      "source": [
        "# Setup a tunnel to the streamlit port 8501\n",
        "public_url = ngrok.connect(port='8501')\n",
        "public_url"
      ]
    },
    {
      "cell_type": "code",
      "execution_count": null,
      "metadata": {
        "colab": {
          "base_uri": "https://localhost:8080/"
        },
        "id": "xGd7Bu23vR4t",
        "outputId": "17f6c19b-4ed0-44e6-c3d4-13265c5e7191"
      },
      "outputs": [
        {
          "name": "stdout",
          "output_type": "stream",
          "text": [
            "360\n"
          ]
        }
      ],
      "source": [
        "!pgrep streamlit"
      ]
    },
    {
      "cell_type": "code",
      "execution_count": null,
      "metadata": {
        "id": "Mv737hnNwngi"
      },
      "outputs": [],
      "source": [
        "kill 445"
      ]
    },
    {
      "cell_type": "code",
      "execution_count": null,
      "metadata": {
        "colab": {
          "base_uri": "https://localhost:8080/"
        },
        "id": "QKyYgO5kV1Xn",
        "outputId": "04b972b8-5239-4215-c7c1-4673106fb772"
      },
      "outputs": [
        {
          "name": "stdout",
          "output_type": "stream",
          "text": [
            "/bin/bash: nano: command not found\n"
          ]
        }
      ],
      "source": [
        "!nano /etc/sysctl.conf  "
      ]
    },
    {
      "cell_type": "code",
      "execution_count": null,
      "metadata": {
        "id": "pT3pOGBIV9RW"
      },
      "outputs": [],
      "source": []
    }
  ],
  "metadata": {
    "colab": {
      "provenance": [],
      "include_colab_link": true
    },
    "kernelspec": {
      "display_name": "Python 3",
      "name": "python3"
    },
    "language_info": {
      "name": "python"
    }
  },
  "nbformat": 4,
  "nbformat_minor": 0
}